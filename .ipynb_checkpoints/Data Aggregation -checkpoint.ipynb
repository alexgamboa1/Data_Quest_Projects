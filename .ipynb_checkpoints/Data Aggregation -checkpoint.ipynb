{
 "cells": [
  {
   "cell_type": "markdown",
   "metadata": {},
   "source": [
    "In fact, Forbes estimates that data scientists spend about 60% of their time cleaning and organizing data, so it's critical to be able to manipulate data quickly and efficiently."
   ]
  },
  {
   "cell_type": "raw",
   "metadata": {},
   "source": [
    "In this course, we'll learn the following:\n",
    "\n",
    "Data aggregation\n",
    "How to combine data\n",
    "How to transform data\n",
    "How to clean strings with pandas\n",
    "How to handle missing and duplicate data\n",
    "You'll need some basic knowledge of pandas and matplotlib to complete this course, including:\n",
    "\n",
    "Basic knowledge of pandas dataframes and series\n",
    "How to select values and filter a dataframe\n",
    "Knowledge of data exploration methods in pandas, such as the info and head methods\n",
    "How to create visualizations in pandas and matplotlib"
   ]
  },
  {
   "cell_type": "code",
   "execution_count": 1,
   "metadata": {},
   "outputs": [
    {
     "name": "stdout",
     "output_type": "stream",
     "text": [
      "<class 'pandas.core.frame.DataFrame'>\n",
      "RangeIndex: 158 entries, 0 to 157\n",
      "Data columns (total 12 columns):\n",
      "Country                          158 non-null object\n",
      "Region                           158 non-null object\n",
      "Happiness Rank                   158 non-null int64\n",
      "Happiness Score                  158 non-null float64\n",
      "Standard Error                   158 non-null float64\n",
      "Economy (GDP per Capita)         158 non-null float64\n",
      "Family                           158 non-null float64\n",
      "Health (Life Expectancy)         158 non-null float64\n",
      "Freedom                          158 non-null float64\n",
      "Trust (Government Corruption)    158 non-null float64\n",
      "Generosity                       158 non-null float64\n",
      "Dystopia Residual                158 non-null float64\n",
      "dtypes: float64(9), int64(1), object(2)\n",
      "memory usage: 14.9+ KB\n"
     ]
    }
   ],
   "source": [
    "#import library\n",
    "import pandas as pd\n",
    "import matplotlib.pyplot as plt\n",
    "\n",
    "# read csv \n",
    "happiness2015 = pd.read_csv(\"2015.csv\")\n",
    "first_5 = happiness2015.head()\n",
    "happiness2015.info()"
   ]
  },
  {
   "cell_type": "code",
   "execution_count": 2,
   "metadata": {},
   "outputs": [
    {
     "data": {
      "text/plain": [
       "array(['Western Europe', 'North America', 'Australia and New Zealand',\n",
       "       'Middle East and Northern Africa', 'Latin America and Caribbean',\n",
       "       'Southeastern Asia', 'Central and Eastern Europe', 'Eastern Asia',\n",
       "       'Sub-Saharan Africa', 'Southern Asia'], dtype=object)"
      ]
     },
     "execution_count": 2,
     "metadata": {},
     "output_type": "execute_result"
    }
   ],
   "source": [
    "# check the uniqueness per region\n",
    "happiness2015['Region'].unique()"
   ]
  },
  {
   "cell_type": "code",
   "execution_count": 3,
   "metadata": {},
   "outputs": [
    {
     "data": {
      "text/plain": [
       "<matplotlib.axes._subplots.AxesSubplot at 0x1056108d0>"
      ]
     },
     "execution_count": 3,
     "metadata": {},
     "output_type": "execute_result"
    },
    {
     "data": {
      "image/png": "[encoded data removed]",
      "text/plain": [
       "<Figure size 432x288 with 1 Axes>"
      ]
     },
     "metadata": {
      "needs_background": "light"
     },
     "output_type": "display_data"
    }
   ],
   "source": [
    "#lets try plotting southern asia \n",
    "so_asia = happiness2015[happiness2015['Region'] == 'Southern Asia']\n",
    "so_asia.plot(x='Country', y='Happiness Score', kind='barh', title='Southern Asia Happiness Scores', xlim=(0,10))"
   ]
  },
  {
   "cell_type": "markdown",
   "metadata": {},
   "source": [
    "However, we wouldn't know if the Southern Asia region is representative of the entire world unless we look at the other regions. What we really want is to create a visualization that uses one number, a summary statistic like the mean, to summarize the data for each region."
   ]
  },
  {
   "cell_type": "markdown",
   "metadata": {},
   "source": [
    "In this mission, we'll learn how to perform different kinds of aggregations, applying a statistical operation to groups of our data, and create visualizations like the one above."
   ]
  },
  {
   "cell_type": "markdown",
   "metadata": {},
   "source": [
    "### Using Loops to Aggregate Data "
   ]
  },
  {
   "cell_type": "code",
   "execution_count": 4,
   "metadata": {},
   "outputs": [],
   "source": [
    "#Create an empty dictionary named mean_happiness to store the results of this exercise.\n",
    "mean_happiness = {}\n",
    "\n",
    "#Identify each unique group in the data set\n",
    "#Use the Series.unique() method to create an array of unique values for the Region column.\n",
    "regions = happiness2015['Region'].unique()\n",
    "\n",
    "#Use a for loop to iterate over the unique region values from the Region column\n",
    "for r in regions: \n",
    "    \n",
    "    #Assign the rows belonging to the current region to a variable named region_group.\n",
    "    region_group = happiness2015[happiness2015['Region']== r]\n",
    "    \n",
    "    #Use the Series.mean() method to calculate the mean happiness score for region_group.\n",
    "    region_mean = region_group['Happiness Score'].mean()\n",
    "    \n",
    "    #Assign the mean value to the mean_happiness dictionary, \n",
    "    # using the region name as the key and the mean happiness score as the value.\n",
    "    mean_happiness[r] = region_mean"
   ]
  },
  {
   "cell_type": "raw",
   "metadata": {},
   "source": [
    "EXPLANATION\n",
    "\n",
    "Let's break down the code we wrote in the previous screen into three steps:\n",
    "\n",
    "Split the dataframe into groups.\n",
    "Apply a function to each group.\n",
    "Combine the results into one data structure."
   ]
  },
  {
   "cell_type": "code",
   "execution_count": 5,
   "metadata": {},
   "outputs": [],
   "source": [
    "mean_happiness = {}\n",
    "regions = happiness2015['Region'].unique()\n",
    "\n",
    "for r in regions:\n",
    "    #1. Split the dataframe into groups.\n",
    "    region_group = happiness2015[happiness2015['Region'] == r]\n",
    "    #2. Apply a function to each group.\n",
    "    region_mean = region_group['Happiness Score'].mean()\n",
    "    #3. Combine the results into one data structure.\n",
    "    mean_happiness[r] = region_mean"
   ]
  },
  {
   "cell_type": "markdown",
   "metadata": {},
   "source": [
    "As with many other common tasks, pandas has a built-in operation for this process. The groupby operation performs the \"split-apply-combine\" process on a dataframe, but condenses it into two steps:\n",
    "\n",
    "Create a GroupBy object.\n",
    "Call a function on the GroupBy object.\n",
    "The GroupBy object, distinct from a dataframe or series object, allows us to split the dataframe into groups, but only in an abstract sense. Nothing is actually computed until a function is called on the GroupBy object.\n",
    "\n",
    "You can think of the groupby operation like this. Imagine a dataframe as a structure made of stacking blocks in all different colors and sizes."
   ]
  },
  {
   "cell_type": "markdown",
   "metadata": {},
   "source": [
    "1. we would first create a mapping document, the GroupBy object, containing information on how to group the blocks by color and where each block is located in the original structure.\n",
    "\n",
    "2. Once we create the mapping document, we can use it to easily rearrange the blocks into different structures. Call an aggregation function. \n",
    "\n",
    "3. Can call another structure \n",
    "\n",
    "Creating the initial mapping document, or GroupBy object, allows us to optimize our work, because we no longer have to refer back to the original dataframe. By working with the groupby operation, we make our code faster, more flexible, and easier to read."
   ]
  },
  {
   "cell_type": "markdown",
   "metadata": {},
   "source": [
    "## Creating GroupBY Objects "
   ]
  },
  {
   "cell_type": "code",
   "execution_count": 6,
   "metadata": {},
   "outputs": [
    {
     "ename": "NameError",
     "evalue": "name 'df' is not defined",
     "output_type": "error",
     "traceback": [
      "\u001b[0;31m---------------------------------------------------------------------------\u001b[0m",
      "\u001b[0;31mNameError\u001b[0m                                 Traceback (most recent call last)",
      "\u001b[0;32m<ipython-input-6-6e2af63ecc80>\u001b[0m in \u001b[0;36m<module>\u001b[0;34m\u001b[0m\n\u001b[1;32m      1\u001b[0m \u001b[0;31m# TO create a group by we use the DataFrame.groupby() method\u001b[0m\u001b[0;34m\u001b[0m\u001b[0;34m\u001b[0m\u001b[0;34m\u001b[0m\u001b[0m\n\u001b[0;32m----> 2\u001b[0;31m \u001b[0mdf\u001b[0m\u001b[0;34m.\u001b[0m\u001b[0mgroupby\u001b[0m\u001b[0;34m(\u001b[0m\u001b[0;34m'col'\u001b[0m\u001b[0;34m)\u001b[0m\u001b[0;34m\u001b[0m\u001b[0;34m\u001b[0m\u001b[0m\n\u001b[0m",
      "\u001b[0;31mNameError\u001b[0m: name 'df' is not defined"
     ]
    }
   ],
   "source": [
    "# TO create a group by we use the DataFrame.groupby() method \n",
    "df.groupby('col')"
   ]
  },
  {
   "cell_type": "code",
   "execution_count": null,
   "metadata": {},
   "outputs": [],
   "source": [
    "grouped = happiness2015.groupby('Region') \n",
    "\n",
    "aus_nz = grouped.get_group('Australia and New Zealand')\n",
    "\n",
    "aus_nz"
   ]
  },
  {
   "cell_type": "markdown",
   "metadata": {},
   "source": [
    "### Exploring GroupBy Objects "
   ]
  },
  {
   "cell_type": "raw",
   "metadata": {},
   "source": [
    "We can also use the GroupBy.groups attribute to get more information about the GroupBy object:\n",
    "\n",
    "grouped = happiness2015.groupby('Region')\n",
    "grouped.groups"
   ]
  },
  {
   "cell_type": "code",
   "execution_count": null,
   "metadata": {},
   "outputs": [],
   "source": [
    "grouped = happiness2015.groupby('Region')\n",
    "grouped.groups"
   ]
  },
  {
   "cell_type": "markdown",
   "metadata": {},
   "source": [
    "Notice that the values include the index for each row in the original happiness2015 dataframe with the corresponding region name. To prove this, let's again look at the data for the Australia and New Zealand group:"
   ]
  },
  {
   "cell_type": "code",
   "execution_count": null,
   "metadata": {},
   "outputs": [],
   "source": [
    "happiness2015.iloc[8:10]"
   ]
  },
  {
   "cell_type": "markdown",
   "metadata": {},
   "source": [
    "Next, let's continue building our intuition by practicing using the groups attribute and get_group() method."
   ]
  },
  {
   "cell_type": "code",
   "execution_count": null,
   "metadata": {},
   "outputs": [],
   "source": [
    "#Exercise: \n",
    "grouped = happiness2015.groupby('Region')\n",
    "\n",
    "#assign just the countries of North America to a name \n",
    "north_america = happiness2015.iloc[[4,14]]\n",
    "\n",
    "#Use the GroupBy.get_group() method to select the data for the North America group only.\n",
    "na_group = grouped.get_group('North America')\n",
    "\n",
    "#Use the following code to compare north_america and na_group: north_america == na_group. Assign the result to equal.\n",
    "equal = north_america == na_group"
   ]
  },
  {
   "cell_type": "code",
   "execution_count": null,
   "metadata": {},
   "outputs": [],
   "source": []
  },
  {
   "cell_type": "markdown",
   "metadata": {},
   "source": [
    "### Common Aggregation methods with GroupBY "
   ]
  },
  {
   "cell_type": "markdown",
   "metadata": {},
   "source": [
    "we confirmed that the values for the 'North America' group returned by grouped.groups do correspond to the countries in North_America in the happiness2015 dataframe."
   ]
  },
  {
   "cell_type": "markdown",
   "metadata": {},
   "source": [
    "A basic example of aggregation is computing the number of rows for each of the groups. We can use the GroupBy.size() method to confirm the size of each region group:"
   ]
  },
  {
   "cell_type": "code",
   "execution_count": null,
   "metadata": {},
   "outputs": [],
   "source": [
    "grouped = happiness2015.groupby('Region')\n",
    "grouped.size()"
   ]
  },
  {
   "cell_type": "code",
   "execution_count": null,
   "metadata": {},
   "outputs": [],
   "source": [
    "# Find the mean of grouped \n",
    "means = grouped.mean()\n",
    "means"
   ]
  },
  {
   "cell_type": "markdown",
   "metadata": {},
   "source": [
    "You may have noticed that Region appears in a different row than the rest of the column names. Because we grouped the dataframe by region, the unique values in Region are used as the index. Up until now, we've mostly worked with dataframes with a numeric index."
   ]
  },
  {
   "cell_type": "raw",
   "metadata": {},
   "source": [
    "Region is now the index "
   ]
  },
  {
   "cell_type": "code",
   "execution_count": null,
   "metadata": {},
   "outputs": [],
   "source": [
    "#Select just the Happiness Score column from grouped. Assign the result to happy_grouped.\n",
    "#Use the GroupBy.mean() method to compute the mean of happy_grouped. Assign the result to happy_mean.\n",
    "grouped = happiness2015.groupby('Region')\n",
    "\n",
    "happy_grouped = grouped[\"Happiness Score\"]\n",
    "\n",
    "happy_mean = happy_grouped.mean()\n",
    "\n",
    "happy_mean"
   ]
  },
  {
   "cell_type": "markdown",
   "metadata": {},
   "source": [
    "### Intro to Agg(  ) Method "
   ]
  },
  {
   "cell_type": "markdown",
   "metadata": {},
   "source": [
    "what if we wanted to apply more than one kind of aggregation to a column at a time?\n",
    "\n",
    "For example, suppose we wanted to calculate both the mean and maximum happiness score for each region. Using what we learned so far, we'd have to first calculate the mean, like we did above, and then calculate the maximum separately.\n",
    "\n",
    "**GroupBy.agg() method can perform Both aggregations at once.** "
   ]
  },
  {
   "cell_type": "raw",
   "metadata": {},
   "source": [
    "#Example Method \n",
    "GroupBy.agg([func_name1, func_name2, func_name3])"
   ]
  },
  {
   "cell_type": "code",
   "execution_count": null,
   "metadata": {},
   "outputs": [],
   "source": [
    "import numpy as np\n",
    "grouped = happiness2015.groupby('Region')\n",
    "happy_grouped = grouped['Happiness Score']\n",
    "def dif(group):\n",
    "    return (group.max() - group.mean()) \n",
    "\n",
    "#Apply the GroupBy.agg() method to happy_grouped. Pass a list containing np.mean and np.max into the method. Assign the result to happy_mean_max.\n",
    "happy_mean_max = happy_grouped.agg([np.mean, np.max])\n",
    "\n",
    "#As noted above, passing 'mean' and 'max' into the GroupBy.agg() method will also return the same results. \n",
    "# However, for answer checking purposes, you'll have to use np.mean and np.max.\n",
    "\n",
    "#created a custom function named dif to calculate the difference between the mean and maximum values. \n",
    "#Pass dif into the GroupBy.agg() method. Assign the result to mean_max_dif.\n",
    "mean_max_dif = happy_grouped.agg(dif)"
   ]
  },
  {
   "cell_type": "code",
   "execution_count": null,
   "metadata": {},
   "outputs": [],
   "source": []
  },
  {
   "cell_type": "markdown",
   "metadata": {},
   "source": [
    "### 10. Computing Multiple and Custom Aggregations with the Agg( ) Method"
   ]
  },
  {
   "cell_type": "markdown",
   "metadata": {},
   "source": [
    "In the last exercise, we learned we can use the GroupBy.agg() method to:\n",
    "\n",
    "    - Perform more than one aggregation at once.\n",
    "    - Compute custom aggregations.\n",
    "To compute multiple aggregations at once, we passed a list of the function names into the agg method:"
   ]
  },
  {
   "cell_type": "code",
   "execution_count": null,
   "metadata": {},
   "outputs": [],
   "source": [
    "import numpy as pd \n",
    "grouped = happiness2015.groupby('Region')\n",
    "#select column from your groupby\n",
    "happy_grouped = grouped['Happiness Score']\n",
    "\n",
    "#use agg() to call multiple functions \n",
    "happy_mean_max = happy_grouped.agg([np.mean, np.max])"
   ]
  },
  {
   "cell_type": "markdown",
   "metadata": {},
   "source": [
    "Our result is a dataframe containing both the mean and maximum happiness scores for each region. Note that the columns are named for the functions themselves."
   ]
  },
  {
   "cell_type": "code",
   "execution_count": null,
   "metadata": {},
   "outputs": [],
   "source": [
    "#custom function to aggregate the data: \n",
    "def dif(group):\n",
    "    return(group.max() - group.mean())\n",
    "happy_grouped.agg(dif)"
   ]
  },
  {
   "cell_type": "markdown",
   "metadata": {},
   "source": [
    "Above, we calculated the difference between the mean and maximum values for each region. Because the agg() method allows us to create custom aggregation functions, it gives us much more flexibility in how we can transform our data."
   ]
  },
  {
   "cell_type": "code",
   "execution_count": null,
   "metadata": {},
   "outputs": [],
   "source": [
    "# same computation as above but in a different way. \n",
    "happiness2015.groupby(\"Region\")['Happiness Score'].agg(dif)"
   ]
  },
  {
   "cell_type": "markdown",
   "metadata": {},
   "source": [
    "Both approaches will return the same result. However, if you plan on computing multiple aggregations with the same GroupBy object, it's recommended to save the object to a variable first."
   ]
  },
  {
   "cell_type": "code",
   "execution_count": null,
   "metadata": {},
   "outputs": [],
   "source": [
    "#Exercise: \n",
    "happiness_means = happiness2015.groupby('Region')['Happiness Score'].mean()\n",
    "\n",
    "happiness_means"
   ]
  },
  {
   "cell_type": "markdown",
   "metadata": {},
   "source": [
    "The Index is Region and Happiness is the value"
   ]
  },
  {
   "cell_type": "markdown",
   "metadata": {},
   "source": [
    "### 11 Aggregation with Pivot Tables "
   ]
  },
  {
   "cell_type": "markdown",
   "metadata": {},
   "source": [
    "Index and values are actually arguments used in another method used to aggregate data - the DataFrame.pivot_table() method.\n",
    "\n",
    "The df.pivot_tbale() can perform the same inds of aggregation as the df.groupby meothod and make the code for complex aggregations easier to read. "
   ]
  },
  {
   "cell_type": "raw",
   "metadata": {},
   "source": [
    "df.pivot_table()   method performs the same aggregation as above. "
   ]
  },
  {
   "cell_type": "code",
   "execution_count": null,
   "metadata": {},
   "outputs": [],
   "source": [
    "happiness2015.pivot_table(values='Happiness Score', index='Region', aggfunc=np.mean)"
   ]
  },
  {
   "cell_type": "code",
   "execution_count": null,
   "metadata": {},
   "outputs": [],
   "source": [
    "#Compare the happiness score of the different regions and plot. \n",
    "#                                                        #add margins to true to get the sum of all regions\n",
    "pv_happiness = happiness2015.pivot_table(values='Happiness Score', index='Region', aggfunc=np.mean, margins=True)\n",
    "\n",
    "pv_happiness.plot(kind='barh', title='Mean Happiness Scores by Region', xlim=(0,10), legend=False)\n",
    "\n",
    "world_mean_happiness = happiness2015['Happiness Score'].mean()"
   ]
  },
  {
   "cell_type": "markdown",
   "metadata": {},
   "source": [
    "The pivot_table method also allows us to aggregate multiple columns and apply multiple functions at once."
   ]
  },
  {
   "cell_type": "markdown",
   "metadata": {},
   "source": [
    "### 12 Aggregating Multiple Columns and Functions with Pivot Tables "
   ]
  },
  {
   "cell_type": "markdown",
   "metadata": {},
   "source": [
    "We can aggregate both the 'Happiness Score' and 'Family' columns in happiness2015 and grouby the Region column: "
   ]
  },
  {
   "cell_type": "code",
   "execution_count": null,
   "metadata": {},
   "outputs": [],
   "source": [
    "happiness2015.pivot_table(['Happiness Score', 'Family'], 'Region')"
   ]
  },
  {
   "cell_type": "markdown",
   "metadata": {},
   "source": [
    "To apply multiple functions, we can pass a list of the functions into the aggfunc parameter:"
   ]
  },
  {
   "cell_type": "code",
   "execution_count": null,
   "metadata": {},
   "outputs": [],
   "source": [
    "happiness2015.pivot_table(values='Happiness Score', index='Region', aggfunc=[np.mean, np.min, np.max], margins=True)"
   ]
  },
  {
   "cell_type": "code",
   "execution_count": null,
   "metadata": {},
   "outputs": [],
   "source": [
    "#group by region and select happiness score and family\n",
    "grouped = happiness2015.groupby('Region')[['Happiness Score', 'Family']]\n",
    "\n",
    "happy_family_stats = grouped.agg([np.min, np.max, np.mean])\n",
    "\n",
    "pv_happy_family_stats= happiness2015.pivot_table(['Family', 'Happiness Score'], 'Region', aggfunc=[np.min, np.max, np.mean], margins=True)"
   ]
  },
  {
   "cell_type": "code",
   "execution_count": null,
   "metadata": {},
   "outputs": [],
   "source": [
    "grouped"
   ]
  },
  {
   "cell_type": "code",
   "execution_count": null,
   "metadata": {},
   "outputs": [],
   "source": [
    "happy_family_stats"
   ]
  },
  {
   "cell_type": "code",
   "execution_count": null,
   "metadata": {},
   "outputs": [],
   "source": [
    "pv_happy_family_stats"
   ]
  },
  {
   "cell_type": "markdown",
   "metadata": {},
   "source": [
    "In this mission, we learned how to use the groupby operation and the df.pivot_table() method for aggregation. "
   ]
  },
  {
   "cell_type": "code",
   "execution_count": null,
   "metadata": {},
   "outputs": [],
   "source": []
  },
  {
   "cell_type": "markdown",
   "metadata": {},
   "source": [
    "# COMBINING DATA With Pandas "
   ]
  },
  {
   "cell_type": "markdown",
   "metadata": {},
   "source": [
    "In the last mission, we worked with just one data set, the 2015 World Happiness Report, to explore data aggregation. However, it's very common in practice to work with more than one data set at a time.\n",
    "\n",
    "Often, you'll find that you need additional data to perform analysis or you'll find that you have the data, but need to pull it from mulitiple sources. In this mission, we'll learn a couple of different techniques for combining data using pandas to easily handle situations like these."
   ]
  },
  {
   "cell_type": "markdown",
   "metadata": {},
   "source": [
    "We'll use what we learned in the last mission to analyze the 2015, 2016, and 2017 World Happiness Reports. Specifically, we'll look to answer the following question:\n",
    "\n",
    "Did world happiness increase, decrease, or stay about the same from 2015 to 2017?\n",
    "\n",
    "As a reminder, these reports assign each country a happiness score based on a poll question that asks respondents to rank their life on a scale of 0 - 10, so \"world happiness\" refers to this definition specifically."
   ]
  },
  {
   "cell_type": "code",
   "execution_count": 9,
   "metadata": {},
   "outputs": [],
   "source": [
    "# add library \n",
    "import pandas as pd\n",
    "\n",
    "#bring in csv files into pandas \n",
    "happiness2015 = pd.read_csv(\"2015.csv\")\n",
    "happiness2016 = pd.read_csv(\"World_Happiness_2016.csv\")\n",
    "happiness2017 = pd.read_csv(\"World_Happiness_2017.csv\")\n",
    "\n",
    "#add extra column for the year of each dataset \n",
    "happiness2015['Year']= 2015\n",
    "happiness2016['Year']= 2016\n",
    "happiness2017['Year']= 2017"
   ]
  },
  {
   "cell_type": "markdown",
   "metadata": {},
   "source": [
    "### Combing Dataframes with the Concat Function"
   ]
  },
  {
   "cell_type": "raw",
   "metadata": {},
   "source": [
    "pd.concat() function. The concat() function combines dataframes one of two ways: \n",
    "    \n",
    "1. Stacked: Axis = 0 (this is the default option)    \n",
    "\n",
    "concat the first df is on top at 0 row a and b with column 1 and 2 \n",
    "                 df2 is below at 0 row c and d with column 1 and 2\n",
    "  \n",
    "  stacked on top of each other df1 first couple of rows and df2 below\n",
    "                 \n",
    "2. Side by Side: Axis = 1           \n",
    "                \n",
    "                df1 is the first column with row a, c being its data\n",
    "                df2 is the second column with row b, d being its data "
   ]
  },
  {
   "cell_type": "raw",
   "metadata": {},
   "source": [
    "Since concat is a function, not a method, we use the syntax below:\n",
    "    \n",
    "    pd.concat([df1, df2])"
   ]
  },
  {
   "cell_type": "code",
   "execution_count": 10,
   "metadata": {},
   "outputs": [
    {
     "data": {
      "text/html": [
       "<div>\n",
       "<style scoped>\n",
       "    .dataframe tbody tr th:only-of-type {\n",
       "        vertical-align: middle;\n",
       "    }\n",
       "\n",
       "    .dataframe tbody tr th {\n",
       "        vertical-align: top;\n",
       "    }\n",
       "\n",
       "    .dataframe thead th {\n",
       "        text-align: right;\n",
       "    }\n",
       "</style>\n",
       "<table border=\"1\" class=\"dataframe\">\n",
       "  <thead>\n",
       "    <tr style=\"text-align: right;\">\n",
       "      <th></th>\n",
       "      <th>Country</th>\n",
       "      <th>Happiness Score</th>\n",
       "      <th>Year</th>\n",
       "    </tr>\n",
       "  </thead>\n",
       "  <tbody>\n",
       "    <tr>\n",
       "      <td>0</td>\n",
       "      <td>Switzerland</td>\n",
       "      <td>7.587</td>\n",
       "      <td>2015</td>\n",
       "    </tr>\n",
       "    <tr>\n",
       "      <td>1</td>\n",
       "      <td>Iceland</td>\n",
       "      <td>7.561</td>\n",
       "      <td>2015</td>\n",
       "    </tr>\n",
       "    <tr>\n",
       "      <td>2</td>\n",
       "      <td>Denmark</td>\n",
       "      <td>7.527</td>\n",
       "      <td>2015</td>\n",
       "    </tr>\n",
       "  </tbody>\n",
       "</table>\n",
       "</div>"
      ],
      "text/plain": [
       "       Country  Happiness Score  Year\n",
       "0  Switzerland            7.587  2015\n",
       "1      Iceland            7.561  2015\n",
       "2      Denmark            7.527  2015"
      ]
     },
     "execution_count": 10,
     "metadata": {},
     "output_type": "execute_result"
    }
   ],
   "source": [
    "#Example \n",
    "head_2015 = happiness2015[['Country', 'Happiness Score', 'Year']].head(3)\n",
    "head_2015"
   ]
  },
  {
   "cell_type": "code",
   "execution_count": 11,
   "metadata": {},
   "outputs": [
    {
     "data": {
      "text/html": [
       "<div>\n",
       "<style scoped>\n",
       "    .dataframe tbody tr th:only-of-type {\n",
       "        vertical-align: middle;\n",
       "    }\n",
       "\n",
       "    .dataframe tbody tr th {\n",
       "        vertical-align: top;\n",
       "    }\n",
       "\n",
       "    .dataframe thead th {\n",
       "        text-align: right;\n",
       "    }\n",
       "</style>\n",
       "<table border=\"1\" class=\"dataframe\">\n",
       "  <thead>\n",
       "    <tr style=\"text-align: right;\">\n",
       "      <th></th>\n",
       "      <th>Country</th>\n",
       "      <th>Happiness Score</th>\n",
       "      <th>Year</th>\n",
       "    </tr>\n",
       "  </thead>\n",
       "  <tbody>\n",
       "    <tr>\n",
       "      <td>0</td>\n",
       "      <td>Denmark</td>\n",
       "      <td>7.526</td>\n",
       "      <td>2016</td>\n",
       "    </tr>\n",
       "    <tr>\n",
       "      <td>1</td>\n",
       "      <td>Switzerland</td>\n",
       "      <td>7.509</td>\n",
       "      <td>2016</td>\n",
       "    </tr>\n",
       "    <tr>\n",
       "      <td>2</td>\n",
       "      <td>Iceland</td>\n",
       "      <td>7.501</td>\n",
       "      <td>2016</td>\n",
       "    </tr>\n",
       "  </tbody>\n",
       "</table>\n",
       "</div>"
      ],
      "text/plain": [
       "       Country  Happiness Score  Year\n",
       "0      Denmark            7.526  2016\n",
       "1  Switzerland            7.509  2016\n",
       "2      Iceland            7.501  2016"
      ]
     },
     "execution_count": 11,
     "metadata": {},
     "output_type": "execute_result"
    }
   ],
   "source": [
    "head_2016 = happiness2016[['Country','Happiness Score', 'Year']].head(3)\n",
    "head_2016"
   ]
  },
  {
   "cell_type": "code",
   "execution_count": 12,
   "metadata": {},
   "outputs": [
    {
     "data": {
      "text/html": [
       "<div>\n",
       "<style scoped>\n",
       "    .dataframe tbody tr th:only-of-type {\n",
       "        vertical-align: middle;\n",
       "    }\n",
       "\n",
       "    .dataframe tbody tr th {\n",
       "        vertical-align: top;\n",
       "    }\n",
       "\n",
       "    .dataframe thead th {\n",
       "        text-align: right;\n",
       "    }\n",
       "</style>\n",
       "<table border=\"1\" class=\"dataframe\">\n",
       "  <thead>\n",
       "    <tr style=\"text-align: right;\">\n",
       "      <th></th>\n",
       "      <th>Country</th>\n",
       "      <th>Happiness Score</th>\n",
       "      <th>Year</th>\n",
       "      <th>Country</th>\n",
       "      <th>Happiness Score</th>\n",
       "      <th>Year</th>\n",
       "    </tr>\n",
       "  </thead>\n",
       "  <tbody>\n",
       "    <tr>\n",
       "      <td>0</td>\n",
       "      <td>Switzerland</td>\n",
       "      <td>7.587</td>\n",
       "      <td>2015</td>\n",
       "      <td>Denmark</td>\n",
       "      <td>7.526</td>\n",
       "      <td>2016</td>\n",
       "    </tr>\n",
       "    <tr>\n",
       "      <td>1</td>\n",
       "      <td>Iceland</td>\n",
       "      <td>7.561</td>\n",
       "      <td>2015</td>\n",
       "      <td>Switzerland</td>\n",
       "      <td>7.509</td>\n",
       "      <td>2016</td>\n",
       "    </tr>\n",
       "    <tr>\n",
       "      <td>2</td>\n",
       "      <td>Denmark</td>\n",
       "      <td>7.527</td>\n",
       "      <td>2015</td>\n",
       "      <td>Iceland</td>\n",
       "      <td>7.501</td>\n",
       "      <td>2016</td>\n",
       "    </tr>\n",
       "  </tbody>\n",
       "</table>\n",
       "</div>"
      ],
      "text/plain": [
       "       Country  Happiness Score  Year      Country  Happiness Score  Year\n",
       "0  Switzerland            7.587  2015      Denmark            7.526  2016\n",
       "1      Iceland            7.561  2015  Switzerland            7.509  2016\n",
       "2      Denmark            7.527  2015      Iceland            7.501  2016"
      ]
     },
     "execution_count": 12,
     "metadata": {},
     "output_type": "execute_result"
    }
   ],
   "source": [
    "# EXERCISE: \n",
    "\n",
    "head_2015 = happiness2015[['Country','Happiness Score', 'Year']].head(3)\n",
    "head_2016 = happiness2016[['Country','Happiness Score', 'Year']].head(3)\n",
    "\n",
    "#use the concat for axis of 0 and axis of 1\n",
    "concat_axis0 = pd.concat([head_2015, head_2016], axis=0)\n",
    "concat_axis1 = pd.concat([head_2015, head_2016], axis=1)\n",
    "\n",
    "\n",
    "#concat_axis0\n",
    "concat_axis1"
   ]
  },
  {
   "cell_type": "markdown",
   "metadata": {},
   "source": [
    "For this reason, when you use the concat() function to combine dataframes with the same shape and index, you can think of the function as \"gluing\" dataframes together."
   ]
  },
  {
   "cell_type": "markdown",
   "metadata": {},
   "source": [
    "Let's confirm the concat() function's behavior when we combine dataframes that don't have the same shape in the next exercise."
   ]
  },
  {
   "cell_type": "code",
   "execution_count": 13,
   "metadata": {},
   "outputs": [
    {
     "data": {
      "text/html": [
       "<div>\n",
       "<style scoped>\n",
       "    .dataframe tbody tr th:only-of-type {\n",
       "        vertical-align: middle;\n",
       "    }\n",
       "\n",
       "    .dataframe tbody tr th {\n",
       "        vertical-align: top;\n",
       "    }\n",
       "\n",
       "    .dataframe thead th {\n",
       "        text-align: right;\n",
       "    }\n",
       "</style>\n",
       "<table border=\"1\" class=\"dataframe\">\n",
       "  <thead>\n",
       "    <tr style=\"text-align: right;\">\n",
       "      <th></th>\n",
       "      <th>Year</th>\n",
       "      <th>Country</th>\n",
       "      <th>Happiness Score</th>\n",
       "      <th>Standard Error</th>\n",
       "    </tr>\n",
       "  </thead>\n",
       "  <tbody>\n",
       "    <tr>\n",
       "      <td>0</td>\n",
       "      <td>2015</td>\n",
       "      <td>Switzerland</td>\n",
       "      <td>7.587</td>\n",
       "      <td>0.03411</td>\n",
       "    </tr>\n",
       "    <tr>\n",
       "      <td>1</td>\n",
       "      <td>2015</td>\n",
       "      <td>Iceland</td>\n",
       "      <td>7.561</td>\n",
       "      <td>0.04884</td>\n",
       "    </tr>\n",
       "    <tr>\n",
       "      <td>2</td>\n",
       "      <td>2015</td>\n",
       "      <td>Denmark</td>\n",
       "      <td>7.527</td>\n",
       "      <td>0.03328</td>\n",
       "    </tr>\n",
       "    <tr>\n",
       "      <td>3</td>\n",
       "      <td>2015</td>\n",
       "      <td>Norway</td>\n",
       "      <td>7.522</td>\n",
       "      <td>0.03880</td>\n",
       "    </tr>\n",
       "  </tbody>\n",
       "</table>\n",
       "</div>"
      ],
      "text/plain": [
       "   Year      Country  Happiness Score  Standard Error\n",
       "0  2015  Switzerland            7.587         0.03411\n",
       "1  2015      Iceland            7.561         0.04884\n",
       "2  2015      Denmark            7.527         0.03328\n",
       "3  2015       Norway            7.522         0.03880"
      ]
     },
     "execution_count": 13,
     "metadata": {},
     "output_type": "execute_result"
    }
   ],
   "source": [
    "# Example we will work with the following subset: \n",
    "head_2015 = happiness2015[['Year','Country','Happiness Score', 'Standard Error']].head(4)\n",
    "\n",
    "head_2015"
   ]
  },
  {
   "cell_type": "code",
   "execution_count": 14,
   "metadata": {},
   "outputs": [
    {
     "data": {
      "text/html": [
       "<div>\n",
       "<style scoped>\n",
       "    .dataframe tbody tr th:only-of-type {\n",
       "        vertical-align: middle;\n",
       "    }\n",
       "\n",
       "    .dataframe tbody tr th {\n",
       "        vertical-align: top;\n",
       "    }\n",
       "\n",
       "    .dataframe thead th {\n",
       "        text-align: right;\n",
       "    }\n",
       "</style>\n",
       "<table border=\"1\" class=\"dataframe\">\n",
       "  <thead>\n",
       "    <tr style=\"text-align: right;\">\n",
       "      <th></th>\n",
       "      <th>Country</th>\n",
       "      <th>Happiness Score</th>\n",
       "      <th>Year</th>\n",
       "    </tr>\n",
       "  </thead>\n",
       "  <tbody>\n",
       "    <tr>\n",
       "      <td>0</td>\n",
       "      <td>Denmark</td>\n",
       "      <td>7.526</td>\n",
       "      <td>2016</td>\n",
       "    </tr>\n",
       "    <tr>\n",
       "      <td>1</td>\n",
       "      <td>Switzerland</td>\n",
       "      <td>7.509</td>\n",
       "      <td>2016</td>\n",
       "    </tr>\n",
       "    <tr>\n",
       "      <td>2</td>\n",
       "      <td>Iceland</td>\n",
       "      <td>7.501</td>\n",
       "      <td>2016</td>\n",
       "    </tr>\n",
       "  </tbody>\n",
       "</table>\n",
       "</div>"
      ],
      "text/plain": [
       "       Country  Happiness Score  Year\n",
       "0      Denmark            7.526  2016\n",
       "1  Switzerland            7.509  2016\n",
       "2      Iceland            7.501  2016"
      ]
     },
     "execution_count": 14,
     "metadata": {},
     "output_type": "execute_result"
    }
   ],
   "source": [
    "# Example subset #2\n",
    "head_2016 = happiness2016[['Country','Happiness Score', 'Year']].head(3)\n",
    "head_2016"
   ]
  },
  {
   "cell_type": "markdown",
   "metadata": {},
   "source": [
    "Notice in the subsets above that head_2015 contains one column that head_2016 does not - the Standard Error column."
   ]
  },
  {
   "cell_type": "code",
   "execution_count": 15,
   "metadata": {},
   "outputs": [
    {
     "name": "stderr",
     "output_type": "stream",
     "text": [
      "/opt/anaconda3/lib/python3.7/site-packages/ipykernel_launcher.py:4: FutureWarning: Sorting because non-concatenation axis is not aligned. A future version\n",
      "of pandas will change to not sort by default.\n",
      "\n",
      "To accept the future behavior, pass 'sort=False'.\n",
      "\n",
      "To retain the current behavior and silence the warning, pass 'sort=True'.\n",
      "\n",
      "  after removing the cwd from sys.path.\n"
     ]
    },
    {
     "data": {
      "text/html": [
       "<div>\n",
       "<style scoped>\n",
       "    .dataframe tbody tr th:only-of-type {\n",
       "        vertical-align: middle;\n",
       "    }\n",
       "\n",
       "    .dataframe tbody tr th {\n",
       "        vertical-align: top;\n",
       "    }\n",
       "\n",
       "    .dataframe thead th {\n",
       "        text-align: right;\n",
       "    }\n",
       "</style>\n",
       "<table border=\"1\" class=\"dataframe\">\n",
       "  <thead>\n",
       "    <tr style=\"text-align: right;\">\n",
       "      <th></th>\n",
       "      <th>Country</th>\n",
       "      <th>Happiness Score</th>\n",
       "      <th>Standard Error</th>\n",
       "      <th>Year</th>\n",
       "    </tr>\n",
       "  </thead>\n",
       "  <tbody>\n",
       "    <tr>\n",
       "      <td>0</td>\n",
       "      <td>Switzerland</td>\n",
       "      <td>7.587</td>\n",
       "      <td>0.03411</td>\n",
       "      <td>2015</td>\n",
       "    </tr>\n",
       "    <tr>\n",
       "      <td>1</td>\n",
       "      <td>Iceland</td>\n",
       "      <td>7.561</td>\n",
       "      <td>0.04884</td>\n",
       "      <td>2015</td>\n",
       "    </tr>\n",
       "    <tr>\n",
       "      <td>2</td>\n",
       "      <td>Denmark</td>\n",
       "      <td>7.527</td>\n",
       "      <td>0.03328</td>\n",
       "      <td>2015</td>\n",
       "    </tr>\n",
       "    <tr>\n",
       "      <td>3</td>\n",
       "      <td>Norway</td>\n",
       "      <td>7.522</td>\n",
       "      <td>0.03880</td>\n",
       "      <td>2015</td>\n",
       "    </tr>\n",
       "    <tr>\n",
       "      <td>0</td>\n",
       "      <td>Denmark</td>\n",
       "      <td>7.526</td>\n",
       "      <td>NaN</td>\n",
       "      <td>2016</td>\n",
       "    </tr>\n",
       "    <tr>\n",
       "      <td>1</td>\n",
       "      <td>Switzerland</td>\n",
       "      <td>7.509</td>\n",
       "      <td>NaN</td>\n",
       "      <td>2016</td>\n",
       "    </tr>\n",
       "    <tr>\n",
       "      <td>2</td>\n",
       "      <td>Iceland</td>\n",
       "      <td>7.501</td>\n",
       "      <td>NaN</td>\n",
       "      <td>2016</td>\n",
       "    </tr>\n",
       "  </tbody>\n",
       "</table>\n",
       "</div>"
      ],
      "text/plain": [
       "       Country  Happiness Score  Standard Error  Year\n",
       "0  Switzerland            7.587         0.03411  2015\n",
       "1      Iceland            7.561         0.04884  2015\n",
       "2      Denmark            7.527         0.03328  2015\n",
       "3       Norway            7.522         0.03880  2015\n",
       "0      Denmark            7.526             NaN  2016\n",
       "1  Switzerland            7.509             NaN  2016\n",
       "2      Iceland            7.501             NaN  2016"
      ]
     },
     "execution_count": 15,
     "metadata": {},
     "output_type": "execute_result"
    }
   ],
   "source": [
    "# Exercise: \n",
    "head_2015 = happiness2015[['Year','Country','Happiness Score', 'Standard Error']].head(4)\n",
    "head_2016 = happiness2016[['Country','Happiness Score', 'Year']].head(3)\n",
    "concat_axis0 = pd.concat([head_2015, head_2016])\n",
    "\n",
    "concat_axis0"
   ]
  },
  {
   "cell_type": "markdown",
   "metadata": {},
   "source": [
    "### Combining Dataframes with different Shapes Using the Concat Function\n",
    "\n",
    "Instead, the function combined the data according to the corresponding column names:\n",
    "\n",
    "    Notice how the names of the country repeat but because the Standard Error column didnt exist in head_2016, NAN values were crafted to signify those values that are missing. \n",
    "    \n",
    "    By default, the concat function will keep ALL of the data, no matter if missing values are created."
   ]
  },
  {
   "cell_type": "markdown",
   "metadata": {},
   "source": [
    "Luckily, the concat function has a parameter, ignore_index, that can be used to clear the existing index and reset it in the result."
   ]
  },
  {
   "cell_type": "code",
   "execution_count": 16,
   "metadata": {},
   "outputs": [
    {
     "name": "stderr",
     "output_type": "stream",
     "text": [
      "/opt/anaconda3/lib/python3.7/site-packages/ipykernel_launcher.py:4: FutureWarning: Sorting because non-concatenation axis is not aligned. A future version\n",
      "of pandas will change to not sort by default.\n",
      "\n",
      "To accept the future behavior, pass 'sort=False'.\n",
      "\n",
      "To retain the current behavior and silence the warning, pass 'sort=True'.\n",
      "\n",
      "  after removing the cwd from sys.path.\n"
     ]
    },
    {
     "data": {
      "text/html": [
       "<div>\n",
       "<style scoped>\n",
       "    .dataframe tbody tr th:only-of-type {\n",
       "        vertical-align: middle;\n",
       "    }\n",
       "\n",
       "    .dataframe tbody tr th {\n",
       "        vertical-align: top;\n",
       "    }\n",
       "\n",
       "    .dataframe thead th {\n",
       "        text-align: right;\n",
       "    }\n",
       "</style>\n",
       "<table border=\"1\" class=\"dataframe\">\n",
       "  <thead>\n",
       "    <tr style=\"text-align: right;\">\n",
       "      <th></th>\n",
       "      <th>Country</th>\n",
       "      <th>Happiness Score</th>\n",
       "      <th>Standard Error</th>\n",
       "      <th>Year</th>\n",
       "    </tr>\n",
       "  </thead>\n",
       "  <tbody>\n",
       "    <tr>\n",
       "      <td>0</td>\n",
       "      <td>Switzerland</td>\n",
       "      <td>7.587</td>\n",
       "      <td>0.03411</td>\n",
       "      <td>2015</td>\n",
       "    </tr>\n",
       "    <tr>\n",
       "      <td>1</td>\n",
       "      <td>Iceland</td>\n",
       "      <td>7.561</td>\n",
       "      <td>0.04884</td>\n",
       "      <td>2015</td>\n",
       "    </tr>\n",
       "    <tr>\n",
       "      <td>2</td>\n",
       "      <td>Denmark</td>\n",
       "      <td>7.527</td>\n",
       "      <td>0.03328</td>\n",
       "      <td>2015</td>\n",
       "    </tr>\n",
       "    <tr>\n",
       "      <td>3</td>\n",
       "      <td>Norway</td>\n",
       "      <td>7.522</td>\n",
       "      <td>0.03880</td>\n",
       "      <td>2015</td>\n",
       "    </tr>\n",
       "    <tr>\n",
       "      <td>4</td>\n",
       "      <td>Denmark</td>\n",
       "      <td>7.526</td>\n",
       "      <td>NaN</td>\n",
       "      <td>2016</td>\n",
       "    </tr>\n",
       "    <tr>\n",
       "      <td>5</td>\n",
       "      <td>Switzerland</td>\n",
       "      <td>7.509</td>\n",
       "      <td>NaN</td>\n",
       "      <td>2016</td>\n",
       "    </tr>\n",
       "    <tr>\n",
       "      <td>6</td>\n",
       "      <td>Iceland</td>\n",
       "      <td>7.501</td>\n",
       "      <td>NaN</td>\n",
       "      <td>2016</td>\n",
       "    </tr>\n",
       "  </tbody>\n",
       "</table>\n",
       "</div>"
      ],
      "text/plain": [
       "       Country  Happiness Score  Standard Error  Year\n",
       "0  Switzerland            7.587         0.03411  2015\n",
       "1      Iceland            7.561         0.04884  2015\n",
       "2      Denmark            7.527         0.03328  2015\n",
       "3       Norway            7.522         0.03880  2015\n",
       "4      Denmark            7.526             NaN  2016\n",
       "5  Switzerland            7.509             NaN  2016\n",
       "6      Iceland            7.501             NaN  2016"
      ]
     },
     "execution_count": 16,
     "metadata": {},
     "output_type": "execute_result"
    }
   ],
   "source": [
    "#EXERCISE: \n",
    "#Use the pd.concat() function to combine head_2015 and head_2016 along axis = 0 again. This time, however, set the ignore_index parameter to True to reset the index in the result. \n",
    "\n",
    "concat_update_index = pd.concat([head_2015, head_2016], axis=0, ignore_index=True)\n",
    "\n",
    "concat_update_index"
   ]
  },
  {
   "cell_type": "markdown",
   "metadata": {},
   "source": [
    "### Joining Dataframes with the Merge Function"
   ]
  },
  {
   "cell_type": "markdown",
   "metadata": {},
   "source": [
    "we'll explore the pd.merge() function - a function that can execute high performance database-style joins.\n",
    "\n",
    "Note that unlike the concat function, the merge function only combines dataframes horizontally (axis=1) and can only combine two dataframes at a time. However, it can be valuable when we need to combine very large dataframes quickly and provides more flexibility in terms of how data can be combined, as we'll see in the next couple of examples."
   ]
  },
  {
   "cell_type": "markdown",
   "metadata": {},
   "source": [
    "With the **merge(  ) function**, we'll combine dataframes on a **key**, a shared index or column. When choosing a key, it's good practice to use keys with unique values to avoid duplicating data."
   ]
  },
  {
   "cell_type": "markdown",
   "metadata": {},
   "source": [
    "**You can think of keys as creating a link from one dataframe to another using the common values or indexes.** "
   ]
  },
  {
   "cell_type": "code",
   "execution_count": 17,
   "metadata": {},
   "outputs": [
    {
     "data": {
      "text/html": [
       "<div>\n",
       "<style scoped>\n",
       "    .dataframe tbody tr th:only-of-type {\n",
       "        vertical-align: middle;\n",
       "    }\n",
       "\n",
       "    .dataframe tbody tr th {\n",
       "        vertical-align: top;\n",
       "    }\n",
       "\n",
       "    .dataframe thead th {\n",
       "        text-align: right;\n",
       "    }\n",
       "</style>\n",
       "<table border=\"1\" class=\"dataframe\">\n",
       "  <thead>\n",
       "    <tr style=\"text-align: right;\">\n",
       "      <th></th>\n",
       "      <th>Country</th>\n",
       "      <th>Happiness Rank_x</th>\n",
       "      <th>Year_x</th>\n",
       "      <th>Happiness Rank_y</th>\n",
       "      <th>Year_y</th>\n",
       "    </tr>\n",
       "  </thead>\n",
       "  <tbody>\n",
       "    <tr>\n",
       "      <td>0</td>\n",
       "      <td>Norway</td>\n",
       "      <td>4</td>\n",
       "      <td>2015</td>\n",
       "      <td>4</td>\n",
       "      <td>2016</td>\n",
       "    </tr>\n",
       "  </tbody>\n",
       "</table>\n",
       "</div>"
      ],
      "text/plain": [
       "  Country  Happiness Rank_x  Year_x  Happiness Rank_y  Year_y\n",
       "0  Norway                 4    2015                 4    2016"
      ]
     },
     "execution_count": 17,
     "metadata": {},
     "output_type": "execute_result"
    }
   ],
   "source": [
    "#Exercise: \n",
    "#create variables for a small df \n",
    "three_2015 = happiness2015[['Country','Happiness Rank','Year']].iloc[2:5]\n",
    "three_2016 = happiness2016[['Country','Happiness Rank','Year']].iloc[2:5]\n",
    "\n",
    "#use pd.merge() function to join 2 dfs on country\n",
    "merged = pd.merge(three_2015, three_2016, on='Country')\n",
    "merged"
   ]
  },
  {
   "cell_type": "markdown",
   "metadata": {},
   "source": [
    "### Joining on Columns with the Merge Function\n",
    "In the Exercise above since we used the merge( ) key on Country column, the function looked to match elements in the country column in Both Dfs. \n",
    "\n",
    "Norway was the only country that appeared in the DF that were a match. \n",
    "\n",
    "**This way of combining, or joining, data is called an inner join. An inner join returns only the intersection of the keys, or the elements that appear in both dataframes with a common key.**"
   ]
  },
  {
   "cell_type": "markdown",
   "metadata": {},
   "source": [
    "- Inner: only includes elements that appear in both dataframes with a common key\n",
    "\n",
    "- Outer: includes all data from both dataframes\n",
    "\n",
    "- Left: includes all of the rows from the \"left\" dataframe along with any rows from the \"right\" dataframe with a   common key; the result retains all columns from both of the original dataframes\n",
    "\n",
    "- Right: includes all of the rows from the \"right\" dataframe along with any rows from the \"left\" dataframe with a common key; the result retains all columns from both of the original dataframes"
   ]
  },
  {
   "cell_type": "markdown",
   "metadata": {},
   "source": [
    "Outer Join is basically what we combined data using concat function, it kept all the data from all dataframes, no matter if missing values were created. "
   ]
  },
  {
   "cell_type": "code",
   "execution_count": 18,
   "metadata": {},
   "outputs": [
    {
     "data": {
      "text/html": [
       "<div>\n",
       "<style scoped>\n",
       "    .dataframe tbody tr th:only-of-type {\n",
       "        vertical-align: middle;\n",
       "    }\n",
       "\n",
       "    .dataframe tbody tr th {\n",
       "        vertical-align: top;\n",
       "    }\n",
       "\n",
       "    .dataframe thead th {\n",
       "        text-align: right;\n",
       "    }\n",
       "</style>\n",
       "<table border=\"1\" class=\"dataframe\">\n",
       "  <thead>\n",
       "    <tr style=\"text-align: right;\">\n",
       "      <th></th>\n",
       "      <th>Country</th>\n",
       "      <th>Happiness Rank_x</th>\n",
       "      <th>Year_x</th>\n",
       "      <th>Happiness Rank_y</th>\n",
       "      <th>Year_y</th>\n",
       "    </tr>\n",
       "  </thead>\n",
       "  <tbody>\n",
       "    <tr>\n",
       "      <td>0</td>\n",
       "      <td>Denmark</td>\n",
       "      <td>3</td>\n",
       "      <td>2015</td>\n",
       "      <td>NaN</td>\n",
       "      <td>NaN</td>\n",
       "    </tr>\n",
       "    <tr>\n",
       "      <td>1</td>\n",
       "      <td>Norway</td>\n",
       "      <td>4</td>\n",
       "      <td>2015</td>\n",
       "      <td>4.0</td>\n",
       "      <td>2016.0</td>\n",
       "    </tr>\n",
       "    <tr>\n",
       "      <td>2</td>\n",
       "      <td>Canada</td>\n",
       "      <td>5</td>\n",
       "      <td>2015</td>\n",
       "      <td>NaN</td>\n",
       "      <td>NaN</td>\n",
       "    </tr>\n",
       "  </tbody>\n",
       "</table>\n",
       "</div>"
      ],
      "text/plain": [
       "   Country  Happiness Rank_x  Year_x  Happiness Rank_y  Year_y\n",
       "0  Denmark                 3    2015               NaN     NaN\n",
       "1   Norway                 4    2015               4.0  2016.0\n",
       "2   Canada                 5    2015               NaN     NaN"
      ]
     },
     "execution_count": 18,
     "metadata": {},
     "output_type": "execute_result"
    }
   ],
   "source": [
    "# Exercise: \n",
    "three_2015 = happiness2015[['Country','Happiness Rank','Year']].iloc[2:5]\n",
    "three_2016 = happiness2016[['Country','Happiness Rank','Year']].iloc[2:5]\n",
    "merged = pd.merge(left=three_2015, right=three_2016, on='Country')\n",
    "\n",
    "# update merged to use a left join\n",
    "merged_left = pd.merge(left=three_2015, right=three_2016, on='Country', how='left')\n",
    "\n",
    "merged_left"
   ]
  },
  {
   "cell_type": "code",
   "execution_count": 19,
   "metadata": {},
   "outputs": [
    {
     "data": {
      "text/html": [
       "<div>\n",
       "<style scoped>\n",
       "    .dataframe tbody tr th:only-of-type {\n",
       "        vertical-align: middle;\n",
       "    }\n",
       "\n",
       "    .dataframe tbody tr th {\n",
       "        vertical-align: top;\n",
       "    }\n",
       "\n",
       "    .dataframe thead th {\n",
       "        text-align: right;\n",
       "    }\n",
       "</style>\n",
       "<table border=\"1\" class=\"dataframe\">\n",
       "  <thead>\n",
       "    <tr style=\"text-align: right;\">\n",
       "      <th></th>\n",
       "      <th>Country</th>\n",
       "      <th>Happiness Rank_x</th>\n",
       "      <th>Year_x</th>\n",
       "      <th>Happiness Rank_y</th>\n",
       "      <th>Year_y</th>\n",
       "    </tr>\n",
       "  </thead>\n",
       "  <tbody>\n",
       "    <tr>\n",
       "      <td>0</td>\n",
       "      <td>Iceland</td>\n",
       "      <td>3</td>\n",
       "      <td>2016</td>\n",
       "      <td>NaN</td>\n",
       "      <td>NaN</td>\n",
       "    </tr>\n",
       "    <tr>\n",
       "      <td>1</td>\n",
       "      <td>Norway</td>\n",
       "      <td>4</td>\n",
       "      <td>2016</td>\n",
       "      <td>4.0</td>\n",
       "      <td>2015.0</td>\n",
       "    </tr>\n",
       "    <tr>\n",
       "      <td>2</td>\n",
       "      <td>Finland</td>\n",
       "      <td>5</td>\n",
       "      <td>2016</td>\n",
       "      <td>NaN</td>\n",
       "      <td>NaN</td>\n",
       "    </tr>\n",
       "  </tbody>\n",
       "</table>\n",
       "</div>"
      ],
      "text/plain": [
       "   Country  Happiness Rank_x  Year_x  Happiness Rank_y  Year_y\n",
       "0  Iceland                 3    2016               NaN     NaN\n",
       "1   Norway                 4    2016               4.0  2015.0\n",
       "2  Finland                 5    2016               NaN     NaN"
      ]
     },
     "execution_count": 19,
     "metadata": {},
     "output_type": "execute_result"
    }
   ],
   "source": [
    "#Exercise: \n",
    "# Update merged_left so that the left parameter equals three_2016 and the right parameter equals three_2015. \n",
    "merged_left_updated = pd.merge(left=three_2016, right=three_2015, on='Country', how='left')\n",
    "merged_left_updated"
   ]
  },
  {
   "cell_type": "markdown",
   "metadata": {},
   "source": [
    "### Left Joins with the Merge Function\n",
    "\n",
    "Changing the join type from an inner join to a left join resulted in a dataframe with more rows and created NaNs.\n",
    "\n",
    "When using a left join, interchanging the dataframes assigned to the left and right parameters changes the results.\n",
    "\n",
    "Since the Country column was used as the key, only countries that appear in BOTH dataframes have a value in every column. \"Norway\" was the only value in the Country column in BOTH dataframes, so it's the only row with a value in every column."
   ]
  },
  {
   "cell_type": "markdown",
   "metadata": {},
   "source": [
    "You may have also noticed above that the merge function added a suffix of either _x or _y to columns of the same name to distinguish between them."
   ]
  },
  {
   "cell_type": "code",
   "execution_count": 20,
   "metadata": {},
   "outputs": [
    {
     "data": {
      "text/html": [
       "<div>\n",
       "<style scoped>\n",
       "    .dataframe tbody tr th:only-of-type {\n",
       "        vertical-align: middle;\n",
       "    }\n",
       "\n",
       "    .dataframe tbody tr th {\n",
       "        vertical-align: top;\n",
       "    }\n",
       "\n",
       "    .dataframe thead th {\n",
       "        text-align: right;\n",
       "    }\n",
       "</style>\n",
       "<table border=\"1\" class=\"dataframe\">\n",
       "  <thead>\n",
       "    <tr style=\"text-align: right;\">\n",
       "      <th></th>\n",
       "      <th>Country</th>\n",
       "      <th>Happiness Rank_2015</th>\n",
       "      <th>Year_2015</th>\n",
       "      <th>Happiness Rank_2016</th>\n",
       "      <th>Year_2016</th>\n",
       "    </tr>\n",
       "  </thead>\n",
       "  <tbody>\n",
       "    <tr>\n",
       "      <td>0</td>\n",
       "      <td>Denmark</td>\n",
       "      <td>3</td>\n",
       "      <td>2015</td>\n",
       "      <td>NaN</td>\n",
       "      <td>NaN</td>\n",
       "    </tr>\n",
       "    <tr>\n",
       "      <td>1</td>\n",
       "      <td>Norway</td>\n",
       "      <td>4</td>\n",
       "      <td>2015</td>\n",
       "      <td>4.0</td>\n",
       "      <td>2016.0</td>\n",
       "    </tr>\n",
       "    <tr>\n",
       "      <td>2</td>\n",
       "      <td>Canada</td>\n",
       "      <td>5</td>\n",
       "      <td>2015</td>\n",
       "      <td>NaN</td>\n",
       "      <td>NaN</td>\n",
       "    </tr>\n",
       "  </tbody>\n",
       "</table>\n",
       "</div>"
      ],
      "text/plain": [
       "   Country  Happiness Rank_2015  Year_2015  Happiness Rank_2016  Year_2016\n",
       "0  Denmark                    3       2015                  NaN        NaN\n",
       "1   Norway                    4       2015                  4.0     2016.0\n",
       "2   Canada                    5       2015                  NaN        NaN"
      ]
     },
     "execution_count": 20,
     "metadata": {},
     "output_type": "execute_result"
    }
   ],
   "source": [
    "# EXERCISE \n",
    "# Add the suffixes using the suffixes parameter \n",
    "merged_suffixes = pd.merge(left=three_2015, right=three_2016, how='left', on='Country', suffixes=('_2015', '_2016'))\n",
    "\n",
    "\n",
    "merged_updated_suffixes = pd.merge(left=three_2016, right=three_2015, how='left', on='Country', \n",
    "suffixes=('_2016', '_2015'))\n",
    "\n",
    "merged_suffixes"
   ]
  },
  {
   "cell_type": "markdown",
   "metadata": {},
   "source": [
    "### Join on Index with the Merge Function \n",
    "\n",
    "We'll join happiness2015 and happiness2016 on **index using an inner join**, so that the result contains only the elements in the key that appear in BOTH dataframes.\n",
    "\n",
    "When we merge on index the result will contain only common indexes. "
   ]
  },
  {
   "cell_type": "code",
   "execution_count": 21,
   "metadata": {},
   "outputs": [
    {
     "data": {
      "text/html": [
       "<div>\n",
       "<style scoped>\n",
       "    .dataframe tbody tr th:only-of-type {\n",
       "        vertical-align: middle;\n",
       "    }\n",
       "\n",
       "    .dataframe tbody tr th {\n",
       "        vertical-align: top;\n",
       "    }\n",
       "\n",
       "    .dataframe thead th {\n",
       "        text-align: right;\n",
       "    }\n",
       "</style>\n",
       "<table border=\"1\" class=\"dataframe\">\n",
       "  <thead>\n",
       "    <tr style=\"text-align: right;\">\n",
       "      <th></th>\n",
       "      <th>Country_2015</th>\n",
       "      <th>Happiness Rank_2015</th>\n",
       "      <th>Year_2015</th>\n",
       "      <th>Country_2016</th>\n",
       "      <th>Happiness Rank_2016</th>\n",
       "      <th>Year_2016</th>\n",
       "    </tr>\n",
       "  </thead>\n",
       "  <tbody>\n",
       "    <tr>\n",
       "      <td>2</td>\n",
       "      <td>Denmark</td>\n",
       "      <td>3</td>\n",
       "      <td>2015</td>\n",
       "      <td>Iceland</td>\n",
       "      <td>3.0</td>\n",
       "      <td>2016.0</td>\n",
       "    </tr>\n",
       "    <tr>\n",
       "      <td>3</td>\n",
       "      <td>Norway</td>\n",
       "      <td>4</td>\n",
       "      <td>2015</td>\n",
       "      <td>Norway</td>\n",
       "      <td>4.0</td>\n",
       "      <td>2016.0</td>\n",
       "    </tr>\n",
       "    <tr>\n",
       "      <td>4</td>\n",
       "      <td>Canada</td>\n",
       "      <td>5</td>\n",
       "      <td>2015</td>\n",
       "      <td>Finland</td>\n",
       "      <td>5.0</td>\n",
       "      <td>2016.0</td>\n",
       "    </tr>\n",
       "    <tr>\n",
       "      <td>5</td>\n",
       "      <td>Finland</td>\n",
       "      <td>6</td>\n",
       "      <td>2015</td>\n",
       "      <td>NaN</td>\n",
       "      <td>NaN</td>\n",
       "      <td>NaN</td>\n",
       "    </tr>\n",
       "  </tbody>\n",
       "</table>\n",
       "</div>"
      ],
      "text/plain": [
       "  Country_2015  Happiness Rank_2015  Year_2015 Country_2016  \\\n",
       "2      Denmark                    3       2015      Iceland   \n",
       "3       Norway                    4       2015       Norway   \n",
       "4       Canada                    5       2015      Finland   \n",
       "5      Finland                    6       2015          NaN   \n",
       "\n",
       "   Happiness Rank_2016  Year_2016  \n",
       "2                  3.0     2016.0  \n",
       "3                  4.0     2016.0  \n",
       "4                  5.0     2016.0  \n",
       "5                  NaN        NaN  "
      ]
     },
     "execution_count": 21,
     "metadata": {},
     "output_type": "execute_result"
    }
   ],
   "source": [
    "#Exercise: \n",
    "four_2015 = happiness2015[['Country','Happiness Rank','Year']].iloc[2:6]\n",
    "three_2016 = happiness2016[['Country','Happiness Rank','Year']].iloc[2:5]\n",
    "\n",
    "# change the join type to left join\n",
    "merge_index_left = pd.merge(left = four_2015,right = three_2016, how = 'left', \n",
    "left_index = True, right_index = True, suffixes = ('_2015','_2016'))\n",
    "\n",
    "merge_index_left"
   ]
  },
  {
   "cell_type": "markdown",
   "metadata": {},
   "source": [
    "### Combine Data and Create a Visualization "
   ]
  },
  {
   "cell_type": "markdown",
   "metadata": {},
   "source": [
    "**Did world happiness increase, decrease, or stay about the same from 2015 to 2017?**"
   ]
  },
  {
   "cell_type": "markdown",
   "metadata": {},
   "source": [
    " First, let's rename the Happiness.Score column so it matches the column name in happiness2015 and happiness2016:"
   ]
  },
  {
   "cell_type": "code",
   "execution_count": 22,
   "metadata": {},
   "outputs": [],
   "source": [
    "happiness2017.rename(columns={'Happiness.Score': 'Happiness Score'}, inplace=True)\n",
    "import numpy as np\n",
    "import matplotlib.pyplot as plt"
   ]
  },
  {
   "cell_type": "code",
   "execution_count": 23,
   "metadata": {},
   "outputs": [
    {
     "name": "stderr",
     "output_type": "stream",
     "text": [
      "/opt/anaconda3/lib/python3.7/site-packages/ipykernel_launcher.py:3: FutureWarning: Sorting because non-concatenation axis is not aligned. A future version\n",
      "of pandas will change to not sort by default.\n",
      "\n",
      "To accept the future behavior, pass 'sort=False'.\n",
      "\n",
      "To retain the current behavior and silence the warning, pass 'sort=True'.\n",
      "\n",
      "  This is separate from the ipykernel package so we can avoid doing imports until\n"
     ]
    },
    {
     "data": {
      "text/plain": [
       "<matplotlib.axes._subplots.AxesSubplot at 0x116e311d0>"
      ]
     },
     "execution_count": 23,
     "metadata": {},
     "output_type": "execute_result"
    },
    {
     "data": {
      "image/png": "[encoded data removed]",
      "text/plain": [
       "<Figure size 432x288 with 1 Axes>"
      ]
     },
     "metadata": {
      "needs_background": "light"
     },
     "output_type": "display_data"
    }
   ],
   "source": [
    "#EXERCISE: \n",
    "#Use either the pd.concat() function or the pd.merge() function to combine happiness2015, happiness2016, and happiness2017\n",
    "combined = pd.concat([happiness2015, happiness2016, happiness2017])\n",
    "\n",
    "#use the df.pivot_table() method to create a pivot table from the combined df.\n",
    "pivot_table_combined = combined.pivot_table(index='Year', values='Happiness Score', aggfunc=np.mean)\n",
    "\n",
    "#create a bar chart \n",
    "pivot_table_combined.plot(kind='barh', title = 'Mean Happiness Scores by Year', xlim=(0,10))"
   ]
  },
  {
   "cell_type": "code",
   "execution_count": null,
   "metadata": {},
   "outputs": [],
   "source": []
  },
  {
   "cell_type": "markdown",
   "metadata": {},
   "source": [
    "# Transforming Data with Pandas "
   ]
  },
  {
   "cell_type": "markdown",
   "metadata": {},
   "source": [
    "Challenge: \n",
    "\n",
    "The columns below contains the estimated extent to which each factor contributes to the happiness score:\n",
    "\n",
    "- Economy (GDP per Capita)\n",
    "- Family\n",
    "- Health (Life Expectancy)\n",
    "- Freedom\n",
    "- Trust (Government Corruption)\n",
    "- Generosity\n",
    "\n",
    "**Which of the factors above contribute the most to the happiness score?**\n",
    "\n",
    "Let's start by renaming some of the columns in happiness2015."
   ]
  },
  {
   "cell_type": "code",
   "execution_count": 24,
   "metadata": {},
   "outputs": [],
   "source": [
    "import numpy as pd\n",
    "import pandas as pd \n",
    "import matplotlib.pyplot as plt"
   ]
  },
  {
   "cell_type": "code",
   "execution_count": 25,
   "metadata": {},
   "outputs": [],
   "source": [
    "#Exercise \n",
    "#rename columns to have simple text for understanding\n",
    "mapping = {'Economy (GDP per Capita)': 'Economy', 'Health (Life Expectancy)': 'Health', 'Trust (Government Corruption)': 'Trust' }\n",
    "\n",
    "#pass mapping dictionary into the df.rename adn set axis to 1\n",
    "happiness2015 = happiness2015.rename(mapping, axis=1)"
   ]
  },
  {
   "cell_type": "markdown",
   "metadata": {},
   "source": [
    "### Apply a Function Element-wise Using the Map and Apply Method"
   ]
  },
  {
   "cell_type": "code",
   "execution_count": 26,
   "metadata": {},
   "outputs": [
    {
     "data": {
      "text/html": [
       "<div>\n",
       "<style scoped>\n",
       "    .dataframe tbody tr th:only-of-type {\n",
       "        vertical-align: middle;\n",
       "    }\n",
       "\n",
       "    .dataframe tbody tr th {\n",
       "        vertical-align: top;\n",
       "    }\n",
       "\n",
       "    .dataframe thead th {\n",
       "        text-align: right;\n",
       "    }\n",
       "</style>\n",
       "<table border=\"1\" class=\"dataframe\">\n",
       "  <thead>\n",
       "    <tr style=\"text-align: right;\">\n",
       "      <th></th>\n",
       "      <th>Country</th>\n",
       "      <th>Region</th>\n",
       "      <th>Happiness Rank</th>\n",
       "      <th>Happiness Score</th>\n",
       "      <th>Standard Error</th>\n",
       "      <th>Economy</th>\n",
       "      <th>Family</th>\n",
       "      <th>Health</th>\n",
       "      <th>Freedom</th>\n",
       "      <th>Trust</th>\n",
       "      <th>Generosity</th>\n",
       "      <th>Dystopia Residual</th>\n",
       "      <th>Year</th>\n",
       "    </tr>\n",
       "  </thead>\n",
       "  <tbody>\n",
       "    <tr>\n",
       "      <td>0</td>\n",
       "      <td>Switzerland</td>\n",
       "      <td>Western Europe</td>\n",
       "      <td>1</td>\n",
       "      <td>7.587</td>\n",
       "      <td>0.03411</td>\n",
       "      <td>1.39651</td>\n",
       "      <td>1.34951</td>\n",
       "      <td>0.94143</td>\n",
       "      <td>0.66557</td>\n",
       "      <td>0.41978</td>\n",
       "      <td>0.29678</td>\n",
       "      <td>2.51738</td>\n",
       "      <td>2015</td>\n",
       "    </tr>\n",
       "    <tr>\n",
       "      <td>1</td>\n",
       "      <td>Iceland</td>\n",
       "      <td>Western Europe</td>\n",
       "      <td>2</td>\n",
       "      <td>7.561</td>\n",
       "      <td>0.04884</td>\n",
       "      <td>1.30232</td>\n",
       "      <td>1.40223</td>\n",
       "      <td>0.94784</td>\n",
       "      <td>0.62877</td>\n",
       "      <td>0.14145</td>\n",
       "      <td>0.43630</td>\n",
       "      <td>2.70201</td>\n",
       "      <td>2015</td>\n",
       "    </tr>\n",
       "    <tr>\n",
       "      <td>2</td>\n",
       "      <td>Denmark</td>\n",
       "      <td>Western Europe</td>\n",
       "      <td>3</td>\n",
       "      <td>7.527</td>\n",
       "      <td>0.03328</td>\n",
       "      <td>1.32548</td>\n",
       "      <td>1.36058</td>\n",
       "      <td>0.87464</td>\n",
       "      <td>0.64938</td>\n",
       "      <td>0.48357</td>\n",
       "      <td>0.34139</td>\n",
       "      <td>2.49204</td>\n",
       "      <td>2015</td>\n",
       "    </tr>\n",
       "  </tbody>\n",
       "</table>\n",
       "</div>"
      ],
      "text/plain": [
       "       Country          Region  Happiness Rank  Happiness Score  \\\n",
       "0  Switzerland  Western Europe               1            7.587   \n",
       "1      Iceland  Western Europe               2            7.561   \n",
       "2      Denmark  Western Europe               3            7.527   \n",
       "\n",
       "   Standard Error  Economy   Family   Health  Freedom    Trust  Generosity  \\\n",
       "0         0.03411  1.39651  1.34951  0.94143  0.66557  0.41978     0.29678   \n",
       "1         0.04884  1.30232  1.40223  0.94784  0.62877  0.14145     0.43630   \n",
       "2         0.03328  1.32548  1.36058  0.87464  0.64938  0.48357     0.34139   \n",
       "\n",
       "   Dystopia Residual  Year  \n",
       "0            2.51738  2015  \n",
       "1            2.70201  2015  \n",
       "2            2.49204  2015  "
      ]
     },
     "execution_count": 26,
     "metadata": {},
     "output_type": "execute_result"
    }
   ],
   "source": [
    "happiness2015.head(3)"
   ]
  },
  {
   "cell_type": "markdown",
   "metadata": {},
   "source": [
    "Recall that each number represents the extent to which each factor contributes to the happiness score.\n",
    "\n",
    "However, not only is this definition a little hard to understand, but it can also be challenging to analyze all of these numbers across multiple columns. Instead, we can first convert these numbers to categories that indicate whether the factor has a high impact on the happiness score or a low impact using the following function:"
   ]
  },
  {
   "cell_type": "code",
   "execution_count": 27,
   "metadata": {},
   "outputs": [],
   "source": [
    "# convert function to high or low impact using a function\n",
    "def label(element):\n",
    "    if element > 1: \n",
    "        return 'High'\n",
    "    else: \n",
    "        return 'Low'"
   ]
  },
  {
   "cell_type": "markdown",
   "metadata": {},
   "source": [
    "Using \n",
    "\n",
    "Series.map(   )   method \n",
    "\n",
    "        Series.map(function_name)\n",
    "\n",
    "Series.apply(   )   method\n",
    "        \n",
    "        Series.apply(function_name)\n",
    "        \n",
    "Note that these methods both take a function as a parameter. Because we're using the function as a parameter, we pass it into the function without the parentheses. For example, if we were working with a function called transform, we'd pass it into the apply() method as follows:"
   ]
  },
  {
   "cell_type": "code",
   "execution_count": 28,
   "metadata": {},
   "outputs": [
    {
     "data": {
      "text/plain": [
       "True"
      ]
     },
     "execution_count": 28,
     "metadata": {},
     "output_type": "execute_result"
    }
   ],
   "source": [
    "# EXERCISE \n",
    "def label(element):\n",
    "    if element > 1: \n",
    "        return 'High'\n",
    "    else: \n",
    "        return 'Low'\n",
    "#add series.map() method to apply label function to the Economy\n",
    "economy_impact_map = happiness2015['Economy'].apply(label)    \n",
    "    \n",
    "#add series.apply() ''\n",
    "economy_impact_apply = happiness2015['Economy'].apply(label)\n",
    "economy_impact_apply\n",
    "\n",
    "#check to see if the methods produce the same result\n",
    "equal = economy_impact_map.equals(economy_impact_apply)\n",
    "\n",
    "\n",
    "#economy_impact_apply.head(3)\n",
    "equal"
   ]
  },
  {
   "cell_type": "markdown",
   "metadata": {},
   "source": [
    "#### Continued "
   ]
  },
  {
   "cell_type": "markdown",
   "metadata": {},
   "source": [
    "We recommend creating a new column, in case you need to reference the original values. Let's do that next:"
   ]
  },
  {
   "cell_type": "code",
   "execution_count": 29,
   "metadata": {},
   "outputs": [],
   "source": [
    "#create a new column, in case you need to reference the original values. \n",
    "def label(element): \n",
    "    if element > 1:\n",
    "        return 'High'\n",
    "    else: \n",
    "        return 'Low'\n",
    "#\n",
    "happiness2015['Economy Impact'] = happiness2015['Economy'].map(label)"
   ]
  },
  {
   "cell_type": "markdown",
   "metadata": {},
   "source": [
    "To create the Economy Impact column, map() and apply() iterate through the Economy column and pass each value into the label function. The function evaluates which range the value belongs to and assigns the corresponding value to the element in the new column.\n",
    "\n"
   ]
  },
  {
   "cell_type": "markdown",
   "metadata": {},
   "source": [
    "What if instead we allowed that number to be passed into the function as an argument?"
   ]
  },
  {
   "cell_type": "code",
   "execution_count": 33,
   "metadata": {},
   "outputs": [],
   "source": [
    "# create a function that allows a number that we want to hit to be considered High such as 0.8\n",
    "def label(element, x):\n",
    "    if element > x:\n",
    "        return 'High'\n",
    "    else: \n",
    "        return 'Low'\n",
    "#use the apply method to apply label to the Economy column and set the x argument to 0.8. \n",
    "economy_impact_apply = happiness2015['Economy'].apply(label, x=0.8)"
   ]
  },
  {
   "cell_type": "markdown",
   "metadata": {},
   "source": [
    "### Apply a Function Element-wise to Multiple Columns Using Applymap Method"
   ]
  },
  {
   "cell_type": "markdown",
   "metadata": {},
   "source": [
    "Pandas already has a method that can apply functions element-wise to multiple columns at once - the DataFrame.applymap() method."
   ]
  },
  {
   "cell_type": "raw",
   "metadata": {},
   "source": [
    "df.applymap(function_name)"
   ]
  },
  {
   "cell_type": "code",
   "execution_count": 36,
   "metadata": {},
   "outputs": [
    {
     "data": {
      "text/html": [
       "<div>\n",
       "<style scoped>\n",
       "    .dataframe tbody tr th:only-of-type {\n",
       "        vertical-align: middle;\n",
       "    }\n",
       "\n",
       "    .dataframe tbody tr th {\n",
       "        vertical-align: top;\n",
       "    }\n",
       "\n",
       "    .dataframe thead th {\n",
       "        text-align: right;\n",
       "    }\n",
       "</style>\n",
       "<table border=\"1\" class=\"dataframe\">\n",
       "  <thead>\n",
       "    <tr style=\"text-align: right;\">\n",
       "      <th></th>\n",
       "      <th>Economy</th>\n",
       "      <th>Family</th>\n",
       "      <th>Health</th>\n",
       "      <th>Freedom</th>\n",
       "      <th>Trust</th>\n",
       "      <th>Generosity</th>\n",
       "    </tr>\n",
       "  </thead>\n",
       "  <tbody>\n",
       "    <tr>\n",
       "      <td>0</td>\n",
       "      <td>High</td>\n",
       "      <td>High</td>\n",
       "      <td>Low</td>\n",
       "      <td>Low</td>\n",
       "      <td>Low</td>\n",
       "      <td>Low</td>\n",
       "    </tr>\n",
       "    <tr>\n",
       "      <td>1</td>\n",
       "      <td>High</td>\n",
       "      <td>High</td>\n",
       "      <td>Low</td>\n",
       "      <td>Low</td>\n",
       "      <td>Low</td>\n",
       "      <td>Low</td>\n",
       "    </tr>\n",
       "    <tr>\n",
       "      <td>2</td>\n",
       "      <td>High</td>\n",
       "      <td>High</td>\n",
       "      <td>Low</td>\n",
       "      <td>Low</td>\n",
       "      <td>Low</td>\n",
       "      <td>Low</td>\n",
       "    </tr>\n",
       "    <tr>\n",
       "      <td>3</td>\n",
       "      <td>High</td>\n",
       "      <td>High</td>\n",
       "      <td>Low</td>\n",
       "      <td>Low</td>\n",
       "      <td>Low</td>\n",
       "      <td>Low</td>\n",
       "    </tr>\n",
       "    <tr>\n",
       "      <td>4</td>\n",
       "      <td>High</td>\n",
       "      <td>High</td>\n",
       "      <td>Low</td>\n",
       "      <td>Low</td>\n",
       "      <td>Low</td>\n",
       "      <td>Low</td>\n",
       "    </tr>\n",
       "  </tbody>\n",
       "</table>\n",
       "</div>"
      ],
      "text/plain": [
       "  Economy Family Health Freedom Trust Generosity\n",
       "0    High   High    Low     Low   Low        Low\n",
       "1    High   High    Low     Low   Low        Low\n",
       "2    High   High    Low     Low   Low        Low\n",
       "3    High   High    Low     Low   Low        Low\n",
       "4    High   High    Low     Low   Low        Low"
      ]
     },
     "execution_count": 36,
     "metadata": {},
     "output_type": "execute_result"
    }
   ],
   "source": [
    "#EXERCISE \n",
    "#use the function to categorize high and low \n",
    "def label(element):\n",
    "    if element > 1:\n",
    "        return 'High'\n",
    "    else:\n",
    "        return 'Low'\n",
    "#create a list of named factors that we will be analyzing \n",
    "factors = ['Economy', 'Family', 'Health', 'Freedom', 'Trust', 'Generosity']\n",
    "\n",
    "#generate a df.applymap() method for all factors \n",
    "factors_impact = happiness2015[factors].applymap(label)\n",
    "\n",
    "factors_impact.head()"
   ]
  },
  {
   "cell_type": "markdown",
   "metadata": {},
   "source": [
    "We can see from the results that, according to our definition, the Economy and Family columns had a high impact on the happiness scores of the first five countries.\n",
    "\n",
    "We have created a new dataframe of high and low comparisons between countries."
   ]
  },
  {
   "cell_type": "markdown",
   "metadata": {},
   "source": [
    "### Apply Functions along an Axis using the Apply Method"
   ]
  },
  {
   "cell_type": "code",
   "execution_count": 37,
   "metadata": {},
   "outputs": [
    {
     "data": {
      "text/html": [
       "<div>\n",
       "<style scoped>\n",
       "    .dataframe tbody tr th:only-of-type {\n",
       "        vertical-align: middle;\n",
       "    }\n",
       "\n",
       "    .dataframe tbody tr th {\n",
       "        vertical-align: top;\n",
       "    }\n",
       "\n",
       "    .dataframe thead th {\n",
       "        text-align: right;\n",
       "    }\n",
       "</style>\n",
       "<table border=\"1\" class=\"dataframe\">\n",
       "  <thead>\n",
       "    <tr style=\"text-align: right;\">\n",
       "      <th></th>\n",
       "      <th>Economy</th>\n",
       "      <th>Family</th>\n",
       "      <th>Health</th>\n",
       "      <th>Freedom</th>\n",
       "      <th>Trust</th>\n",
       "      <th>Generosity</th>\n",
       "    </tr>\n",
       "  </thead>\n",
       "  <tbody>\n",
       "    <tr>\n",
       "      <td>High</td>\n",
       "      <td>66</td>\n",
       "      <td>89</td>\n",
       "      <td>2</td>\n",
       "      <td>NaN</td>\n",
       "      <td>NaN</td>\n",
       "      <td>NaN</td>\n",
       "    </tr>\n",
       "    <tr>\n",
       "      <td>Low</td>\n",
       "      <td>92</td>\n",
       "      <td>69</td>\n",
       "      <td>156</td>\n",
       "      <td>158.0</td>\n",
       "      <td>158.0</td>\n",
       "      <td>158.0</td>\n",
       "    </tr>\n",
       "  </tbody>\n",
       "</table>\n",
       "</div>"
      ],
      "text/plain": [
       "      Economy  Family  Health  Freedom  Trust  Generosity\n",
       "High       66      89       2      NaN    NaN         NaN\n",
       "Low        92      69     156    158.0  158.0       158.0"
      ]
     },
     "execution_count": 37,
     "metadata": {},
     "output_type": "execute_result"
    }
   ],
   "source": [
    "# Use the df.apply() method to calculate the number of  high and low values of each column. \n",
    "factors_impact.apply(pd.value_counts)"
   ]
  },
  {
   "cell_type": "markdown",
   "metadata": {},
   "source": [
    "Notice that we used the df.apply() method to transform multiple columns. This is only possible because the pd.value_counts function operates on a series. If we tried to use the df.apply() method to apply a function that works element-wise to multiple columns, we'd get an error"
   ]
  },
  {
   "cell_type": "code",
   "execution_count": 41,
   "metadata": {},
   "outputs": [
    {
     "data": {
      "text/html": [
       "<div>\n",
       "<style scoped>\n",
       "    .dataframe tbody tr th:only-of-type {\n",
       "        vertical-align: middle;\n",
       "    }\n",
       "\n",
       "    .dataframe tbody tr th {\n",
       "        vertical-align: top;\n",
       "    }\n",
       "\n",
       "    .dataframe thead th {\n",
       "        text-align: right;\n",
       "    }\n",
       "</style>\n",
       "<table border=\"1\" class=\"dataframe\">\n",
       "  <thead>\n",
       "    <tr style=\"text-align: right;\">\n",
       "      <th></th>\n",
       "      <th>Economy</th>\n",
       "      <th>Family</th>\n",
       "      <th>Health</th>\n",
       "      <th>Freedom</th>\n",
       "      <th>Trust</th>\n",
       "      <th>Generosity</th>\n",
       "    </tr>\n",
       "  </thead>\n",
       "  <tbody>\n",
       "    <tr>\n",
       "      <td>High</td>\n",
       "      <td>0.417722</td>\n",
       "      <td>0.563291</td>\n",
       "      <td>0.012658</td>\n",
       "      <td>NaN</td>\n",
       "      <td>NaN</td>\n",
       "      <td>NaN</td>\n",
       "    </tr>\n",
       "    <tr>\n",
       "      <td>Low</td>\n",
       "      <td>0.582278</td>\n",
       "      <td>0.436709</td>\n",
       "      <td>0.987342</td>\n",
       "      <td>1.0</td>\n",
       "      <td>1.0</td>\n",
       "      <td>1.0</td>\n",
       "    </tr>\n",
       "  </tbody>\n",
       "</table>\n",
       "</div>"
      ],
      "text/plain": [
       "       Economy    Family    Health  Freedom  Trust  Generosity\n",
       "High  0.417722  0.563291  0.012658      NaN    NaN         NaN\n",
       "Low   0.582278  0.436709  0.987342      1.0    1.0         1.0"
      ]
     },
     "execution_count": 41,
     "metadata": {},
     "output_type": "execute_result"
    }
   ],
   "source": [
    "#EXERCISE: \n",
    "#Create a function that calculates the percentage of 'High' and 'Low' values in each column.\n",
    "# Create a function named v_counts that accepts one parameter called col.\n",
    "def v_counts(col):\n",
    "# Use the Series.value_counts() method to calculate the value counts for col. Assign the result to num.\n",
    "    num = col.value_counts()\n",
    "# Use the Series.size attribute to calculate the number of rows in the column. Assign the result to den.\n",
    "    den = col.size\n",
    "# Divide num by den and return the result.\n",
    "    return num/den\n",
    "\n",
    "#Use the df.apply() method to apply the v_counts function to all of the columns in factors_impact.\n",
    "v_counts_pct = factors_impact.apply(v_counts)\n",
    "\n",
    "v_counts_pct"
   ]
  },
  {
   "cell_type": "markdown",
   "metadata": {},
   "source": [
    "When we use the apply() method, we're actually looping through rows, so a vectorized method can perform an equivalent task faster than the apply() method."
   ]
  },
  {
   "cell_type": "markdown",
   "metadata": {},
   "source": [
    "### Apply Function along an Axis using the Apply Method Continued"
   ]
  },
  {
   "cell_type": "markdown",
   "metadata": {},
   "source": [
    "Next, we'll compare two different ways of performing an analysis task. First, we'll use the df.apply() method to transform the data. Then, we'll look at an alternate way to perform the same task with vectorized methods."
   ]
  },
  {
   "cell_type": "code",
   "execution_count": 43,
   "metadata": {},
   "outputs": [
    {
     "data": {
      "text/html": [
       "<div>\n",
       "<style scoped>\n",
       "    .dataframe tbody tr th:only-of-type {\n",
       "        vertical-align: middle;\n",
       "    }\n",
       "\n",
       "    .dataframe tbody tr th {\n",
       "        vertical-align: top;\n",
       "    }\n",
       "\n",
       "    .dataframe thead th {\n",
       "        text-align: right;\n",
       "    }\n",
       "</style>\n",
       "<table border=\"1\" class=\"dataframe\">\n",
       "  <thead>\n",
       "    <tr style=\"text-align: right;\">\n",
       "      <th></th>\n",
       "      <th>Economy</th>\n",
       "      <th>Family</th>\n",
       "      <th>Health</th>\n",
       "      <th>Freedom</th>\n",
       "      <th>Trust</th>\n",
       "      <th>Generosity</th>\n",
       "      <th>Dystopia Residual</th>\n",
       "    </tr>\n",
       "  </thead>\n",
       "  <tbody>\n",
       "    <tr>\n",
       "      <td>0</td>\n",
       "      <td>18.406617</td>\n",
       "      <td>17.787136</td>\n",
       "      <td>12.408462</td>\n",
       "      <td>8.772506</td>\n",
       "      <td>5.532885</td>\n",
       "      <td>3.911691</td>\n",
       "      <td>33.180177</td>\n",
       "    </tr>\n",
       "    <tr>\n",
       "      <td>1</td>\n",
       "      <td>17.224177</td>\n",
       "      <td>18.545563</td>\n",
       "      <td>12.535908</td>\n",
       "      <td>8.315963</td>\n",
       "      <td>1.870784</td>\n",
       "      <td>5.770401</td>\n",
       "      <td>35.736146</td>\n",
       "    </tr>\n",
       "    <tr>\n",
       "      <td>2</td>\n",
       "      <td>17.609672</td>\n",
       "      <td>18.075993</td>\n",
       "      <td>11.620035</td>\n",
       "      <td>8.627342</td>\n",
       "      <td>6.424472</td>\n",
       "      <td>4.535539</td>\n",
       "      <td>33.108011</td>\n",
       "    </tr>\n",
       "    <tr>\n",
       "      <td>3</td>\n",
       "      <td>19.396437</td>\n",
       "      <td>17.694097</td>\n",
       "      <td>11.768280</td>\n",
       "      <td>8.903616</td>\n",
       "      <td>4.852832</td>\n",
       "      <td>4.613002</td>\n",
       "      <td>32.774661</td>\n",
       "    </tr>\n",
       "    <tr>\n",
       "      <td>4</td>\n",
       "      <td>17.857681</td>\n",
       "      <td>17.808132</td>\n",
       "      <td>12.193753</td>\n",
       "      <td>8.522553</td>\n",
       "      <td>4.437458</td>\n",
       "      <td>6.168170</td>\n",
       "      <td>33.011445</td>\n",
       "    </tr>\n",
       "  </tbody>\n",
       "</table>\n",
       "</div>"
      ],
      "text/plain": [
       "     Economy     Family     Health   Freedom     Trust  Generosity  \\\n",
       "0  18.406617  17.787136  12.408462  8.772506  5.532885    3.911691   \n",
       "1  17.224177  18.545563  12.535908  8.315963  1.870784    5.770401   \n",
       "2  17.609672  18.075993  11.620035  8.627342  6.424472    4.535539   \n",
       "3  19.396437  17.694097  11.768280  8.903616  4.852832    4.613002   \n",
       "4  17.857681  17.808132  12.193753  8.522553  4.437458    6.168170   \n",
       "\n",
       "   Dystopia Residual  \n",
       "0          33.180177  \n",
       "1          35.736146  \n",
       "2          33.108011  \n",
       "3          32.774661  \n",
       "4          33.011445  "
      ]
     },
     "execution_count": 43,
     "metadata": {},
     "output_type": "execute_result"
    }
   ],
   "source": [
    "#EXERCISE: \n",
    "#Let's use the df.apply() method to convert each of the values in the six factor columns and the Dystopia Residual column to percentages.\n",
    "factors = ['Economy', 'Family', 'Health', 'Freedom', 'Trust', 'Generosity', 'Dystopia Residual']\n",
    "\n",
    "#Create a function named percentages that accepts one parameter called col.\n",
    "def percentages(col):\n",
    "    #Divide col by the Happiness Score column. Assign the result to div.\n",
    "    div = col/happiness2015['Happiness Score']\n",
    "    \n",
    "    #return the div * 100 to get percentage\n",
    "    return div*100\n",
    "\n",
    "#Use the df.apply() method to apply the percentages function to all of the columns in factors. \n",
    "factor_percentages = happiness2015[factors].apply(percentages)\n",
    "\n",
    "factor_percentages.head()"
   ]
  },
  {
   "cell_type": "markdown",
   "metadata": {},
   "source": [
    "### Reshaping Data with the Melt Function "
   ]
  },
  {
   "cell_type": "markdown",
   "metadata": {},
   "source": [
    "However, it would be easier to convert these numbers into percentages, plot the results, and perform other data analysis tasks if we first reshaped the dataframe so that one column holds the values for all six factors and the Dystopia Residual column. We can accomplish this with the pd.melt() function."
   ]
  },
  {
   "cell_type": "raw",
   "metadata": {},
   "source": [
    "pd.melt(df, id_vars=[col1, col2], value_vars=[col3, col4])\n",
    "\n",
    "id_vars = the names of the columns that should remain the same in the result. \n",
    "\n",
    "value_vars = the names of the columns that should be changed to rows in the result. "
   ]
  },
  {
   "cell_type": "code",
   "execution_count": 46,
   "metadata": {},
   "outputs": [
    {
     "data": {
      "text/html": [
       "<div>\n",
       "<style scoped>\n",
       "    .dataframe tbody tr th:only-of-type {\n",
       "        vertical-align: middle;\n",
       "    }\n",
       "\n",
       "    .dataframe tbody tr th {\n",
       "        vertical-align: top;\n",
       "    }\n",
       "\n",
       "    .dataframe thead th {\n",
       "        text-align: right;\n",
       "    }\n",
       "</style>\n",
       "<table border=\"1\" class=\"dataframe\">\n",
       "  <thead>\n",
       "    <tr style=\"text-align: right;\">\n",
       "      <th></th>\n",
       "      <th>Country</th>\n",
       "      <th>Region</th>\n",
       "      <th>Happiness Rank</th>\n",
       "      <th>Happiness Score</th>\n",
       "      <th>variable</th>\n",
       "      <th>value</th>\n",
       "      <th>Percentage</th>\n",
       "    </tr>\n",
       "  </thead>\n",
       "  <tbody>\n",
       "    <tr>\n",
       "      <td>0</td>\n",
       "      <td>Switzerland</td>\n",
       "      <td>Western Europe</td>\n",
       "      <td>1</td>\n",
       "      <td>7.587</td>\n",
       "      <td>Economy</td>\n",
       "      <td>1.39651</td>\n",
       "      <td>18.41</td>\n",
       "    </tr>\n",
       "    <tr>\n",
       "      <td>1</td>\n",
       "      <td>Iceland</td>\n",
       "      <td>Western Europe</td>\n",
       "      <td>2</td>\n",
       "      <td>7.561</td>\n",
       "      <td>Economy</td>\n",
       "      <td>1.30232</td>\n",
       "      <td>17.22</td>\n",
       "    </tr>\n",
       "    <tr>\n",
       "      <td>2</td>\n",
       "      <td>Denmark</td>\n",
       "      <td>Western Europe</td>\n",
       "      <td>3</td>\n",
       "      <td>7.527</td>\n",
       "      <td>Economy</td>\n",
       "      <td>1.32548</td>\n",
       "      <td>17.61</td>\n",
       "    </tr>\n",
       "    <tr>\n",
       "      <td>3</td>\n",
       "      <td>Norway</td>\n",
       "      <td>Western Europe</td>\n",
       "      <td>4</td>\n",
       "      <td>7.522</td>\n",
       "      <td>Economy</td>\n",
       "      <td>1.45900</td>\n",
       "      <td>19.40</td>\n",
       "    </tr>\n",
       "    <tr>\n",
       "      <td>4</td>\n",
       "      <td>Canada</td>\n",
       "      <td>North America</td>\n",
       "      <td>5</td>\n",
       "      <td>7.427</td>\n",
       "      <td>Economy</td>\n",
       "      <td>1.32629</td>\n",
       "      <td>17.86</td>\n",
       "    </tr>\n",
       "    <tr>\n",
       "      <td>...</td>\n",
       "      <td>...</td>\n",
       "      <td>...</td>\n",
       "      <td>...</td>\n",
       "      <td>...</td>\n",
       "      <td>...</td>\n",
       "      <td>...</td>\n",
       "      <td>...</td>\n",
       "    </tr>\n",
       "    <tr>\n",
       "      <td>1101</td>\n",
       "      <td>Rwanda</td>\n",
       "      <td>Sub-Saharan Africa</td>\n",
       "      <td>154</td>\n",
       "      <td>3.465</td>\n",
       "      <td>Dystopia Residual</td>\n",
       "      <td>0.67042</td>\n",
       "      <td>19.35</td>\n",
       "    </tr>\n",
       "    <tr>\n",
       "      <td>1102</td>\n",
       "      <td>Benin</td>\n",
       "      <td>Sub-Saharan Africa</td>\n",
       "      <td>155</td>\n",
       "      <td>3.340</td>\n",
       "      <td>Dystopia Residual</td>\n",
       "      <td>1.63328</td>\n",
       "      <td>48.90</td>\n",
       "    </tr>\n",
       "    <tr>\n",
       "      <td>1103</td>\n",
       "      <td>Syria</td>\n",
       "      <td>Middle East and Northern Africa</td>\n",
       "      <td>156</td>\n",
       "      <td>3.006</td>\n",
       "      <td>Dystopia Residual</td>\n",
       "      <td>0.32858</td>\n",
       "      <td>10.93</td>\n",
       "    </tr>\n",
       "    <tr>\n",
       "      <td>1104</td>\n",
       "      <td>Burundi</td>\n",
       "      <td>Sub-Saharan Africa</td>\n",
       "      <td>157</td>\n",
       "      <td>2.905</td>\n",
       "      <td>Dystopia Residual</td>\n",
       "      <td>1.83302</td>\n",
       "      <td>63.10</td>\n",
       "    </tr>\n",
       "    <tr>\n",
       "      <td>1105</td>\n",
       "      <td>Togo</td>\n",
       "      <td>Sub-Saharan Africa</td>\n",
       "      <td>158</td>\n",
       "      <td>2.839</td>\n",
       "      <td>Dystopia Residual</td>\n",
       "      <td>1.56726</td>\n",
       "      <td>55.20</td>\n",
       "    </tr>\n",
       "  </tbody>\n",
       "</table>\n",
       "<p>1106 rows × 7 columns</p>\n",
       "</div>"
      ],
      "text/plain": [
       "          Country                           Region  Happiness Rank  \\\n",
       "0     Switzerland                   Western Europe               1   \n",
       "1         Iceland                   Western Europe               2   \n",
       "2         Denmark                   Western Europe               3   \n",
       "3          Norway                   Western Europe               4   \n",
       "4          Canada                    North America               5   \n",
       "...           ...                              ...             ...   \n",
       "1101       Rwanda               Sub-Saharan Africa             154   \n",
       "1102        Benin               Sub-Saharan Africa             155   \n",
       "1103        Syria  Middle East and Northern Africa             156   \n",
       "1104      Burundi               Sub-Saharan Africa             157   \n",
       "1105         Togo               Sub-Saharan Africa             158   \n",
       "\n",
       "      Happiness Score           variable    value  Percentage  \n",
       "0               7.587            Economy  1.39651       18.41  \n",
       "1               7.561            Economy  1.30232       17.22  \n",
       "2               7.527            Economy  1.32548       17.61  \n",
       "3               7.522            Economy  1.45900       19.40  \n",
       "4               7.427            Economy  1.32629       17.86  \n",
       "...               ...                ...      ...         ...  \n",
       "1101            3.465  Dystopia Residual  0.67042       19.35  \n",
       "1102            3.340  Dystopia Residual  1.63328       48.90  \n",
       "1103            3.006  Dystopia Residual  0.32858       10.93  \n",
       "1104            2.905  Dystopia Residual  1.83302       63.10  \n",
       "1105            2.839  Dystopia Residual  1.56726       55.20  \n",
       "\n",
       "[1106 rows x 7 columns]"
      ]
     },
     "execution_count": 46,
     "metadata": {},
     "output_type": "execute_result"
    }
   ],
   "source": [
    "#EXERCISE:\n",
    "#Use the melt function to reshape happiness2015.\n",
    "main_cols = ['Country', 'Region', 'Happiness Rank', 'Happiness Score']\n",
    "factors = ['Economy', 'Family', 'Health', 'Freedom', 'Trust', 'Generosity', 'Dystopia Residual']\n",
    "\n",
    "# Colums in main_cols should stay the same and factors columns should be transformed into rows\n",
    "melt =pd.melt(happiness2015, id_vars= main_cols, value_vars= factors)\n",
    "\n",
    "#Convert the value column to a percentage\n",
    "#Divide the value column by the Happiness Score column and multiply the result by 100\n",
    "#round by 2 decimal places \n",
    "#Assign to a new column called Percentage \n",
    "melt['Percentage'] = round(melt['value']/melt['Happiness Score']*100, 2)\n",
    "\n",
    "melt"
   ]
  },
  {
   "cell_type": "markdown",
   "metadata": {},
   "source": [
    "In the last exercise, we used the melt function to reshape our data so that we could use vectorized operations to convert the value column into percentages."
   ]
  },
  {
   "cell_type": "markdown",
   "metadata": {},
   "source": [
    "### Aggregate the Data and Create a Visualization"
   ]
  },
  {
   "cell_type": "markdown",
   "metadata": {},
   "source": [
    "Next, let's group the data by the variable column, find the mean value of each variable (or factor), and plot the results to see how much each factor contributes to the happiness score on average. \n",
    "\n",
    "Group the data by the variable column and plot the results in a pie chart."
   ]
  },
  {
   "cell_type": "code",
   "execution_count": 47,
   "metadata": {},
   "outputs": [
    {
     "data": {
      "text/plain": [
       "<matplotlib.axes._subplots.AxesSubplot at 0x11819a5d0>"
      ]
     },
     "execution_count": 47,
     "metadata": {},
     "output_type": "execute_result"
    },
    {
     "data": {
      "image/png": "[encoded data removed]",
      "text/plain": [
       "<Figure size 432x288 with 1 Axes>"
      ]
     },
     "metadata": {},
     "output_type": "display_data"
    }
   ],
   "source": [
    "#EXERCISE: \n",
    "#Use the df.pivot_table() method to create a pivot table from the melt dataframe.\n",
    "#set variable column as the index and the value column as values \n",
    "pv_melt= melt.pivot_table(index= 'variable', values= 'value') \n",
    "\n",
    "#Use the df.plot() method to create a pie chart of the results. Set the kind parameter to 'pie', the y parameter to 'value', and the legend parameter to False, so we can better see the results.\n",
    "pv_melt.plot(kind='pie', y='value', legend=False)"
   ]
  },
  {
   "cell_type": "code",
   "execution_count": null,
   "metadata": {},
   "outputs": [],
   "source": []
  },
  {
   "cell_type": "code",
   "execution_count": null,
   "metadata": {},
   "outputs": [],
   "source": []
  },
  {
   "cell_type": "markdown",
   "metadata": {},
   "source": [
    "# WORKING WITH STRINGS IN PANDAS"
   ]
  },
  {
   "cell_type": "markdown",
   "metadata": {},
   "source": [
    "In this mission, we'll learn a couple other string cleaning tasks such as:\n",
    "\n",
    "    - Finding specific strings or substrings in columns\n",
    "    - Extracting substrings from unstructured data\n",
    "    - Removing strings or substrings from a series"
   ]
  },
  {
   "cell_type": "code",
   "execution_count": null,
   "metadata": {},
   "outputs": [],
   "source": []
  }
 ],
 "metadata": {
  "kernelspec": {
   "display_name": "Python 3",
   "language": "python",
   "name": "python3"
  },
  "language_info": {
   "codemirror_mode": {
    "name": "ipython",
    "version": 3
   },
   "file_extension": ".py",
   "mimetype": "text/x-python",
   "name": "python",
   "nbconvert_exporter": "python",
   "pygments_lexer": "ipython3",
   "version": "3.7.4"
  }
 },
 "nbformat": 4,
 "nbformat_minor": 2
}
